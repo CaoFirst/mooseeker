{
 "cells": [
  {
   "cell_type": "code",
   "execution_count": 2,
   "metadata": {},
   "outputs": [],
   "source": [
    "'''\n",
    "Autor: caoyh\n",
    "Date: 2022-11-21 10:21:55\n",
    "LastEditTime: 2022-11-21 10:44:29\n",
    "'''\n",
    "import numpy as np\n",
    "import pandas as pd\n",
    "\n",
    "res_path = '/home/caoyh/project/MooSeeker/MyNewMooSeeker/cache/result/single_glycolysis_33_33_33/'\n",
    "hist = np.load(res_path+'history.npz', allow_pickle=True)\n",
    "res = np.load(res_path+'result.npz', allow_pickle=True)"
   ]
  },
  {
   "cell_type": "code",
   "execution_count": 33,
   "metadata": {},
   "outputs": [
    {
     "data": {
      "text/plain": [
       "(<model.Chromesome.Chromesome at 0x7fc208e8f220>, -9.288674231451648e+16)"
      ]
     },
     "execution_count": 33,
     "metadata": {},
     "output_type": "execute_result"
    }
   ],
   "source": [
    "X = res['X'][-1]\n",
    "F = res['F'][-1]\n",
    "X, F "
   ]
  },
  {
   "cell_type": "code",
   "execution_count": 34,
   "metadata": {},
   "outputs": [
    {
     "name": "stdout",
     "output_type": "stream",
     "text": [
      "Maximum theoretical yield = 2.81474976710656e+17 mmol-Dgly/mmol-glc\n",
      "=====The best chromesome is ======\n",
      "Length:7.000000 \n",
      "Gibbs:-2.375495 \n",
      "Yield: 281474976710656000.000000\n",
      "\n",
      "R09085 : C00267  -->  C00668 ,\n",
      "R02739 : C00668  -->  C01172 ,\n",
      "R02728 : C01172  -->  C00663 ,\n",
      "R05767 : C00663  -->  C00689 ,\n",
      "R02780 : C00689  -->  C04261 ,\n",
      "R02628 : C04261  -->  C00074 ,\n",
      "R00659 : C00074  -->  C00022 ,\n",
      "[['R09085', 'C00267', 'C00668'], ['R02739', 'C00668', 'C01172'], ['R02728', 'C01172', 'C00663'], ['R05767', 'C00663', 'C00689'], ['R02780', 'C00689', 'C04261'], ['R02628', 'C04261', 'C00074'], ['R00659', 'C00074', 'C00022']]\n"
     ]
    }
   ],
   "source": [
    "from fit_funcs import get_gibbs\n",
    "from fit_funcs import get_yield\n",
    "\n",
    "length = X.chrom.length()\n",
    "gibbs = get_gibbs(X.chrom.get_rxn_list())\n",
    "_yield = get_yield(X.chrom.get_rxn_list())\n",
    "print('=====The best chromesome is ======')\n",
    "print('Length:%f \\nGibbs:%f \\nYield: %f\\n'%(length, gibbs, _yield))\n",
    "print(X.chrom.travel())"
   ]
  },
  {
   "cell_type": "markdown",
   "metadata": {},
   "source": [
    "# Vanillin"
   ]
  },
  {
   "cell_type": "markdown",
   "metadata": {},
   "source": [
    "## 145"
   ]
  },
  {
   "cell_type": "code",
   "execution_count": 35,
   "metadata": {},
   "outputs": [
    {
     "name": "stdout",
     "output_type": "stream",
     "text": [
      "Maximum theoretical yield = 48.87399999999994 mmol-Dgly/mmol-glc\n",
      "=====The best chromesome is ======\n",
      "Length:11.000000 \n",
      "Gibbs:-2.632318 \n",
      "Yield: 48.874000\n",
      "\n",
      "R07211 : C00082  -->  C00079 ,\n",
      "R01376 : C00079  -->  C00166 ,\n",
      "R01373 : C00166  -->  C00254 ,\n",
      "R01715 : C00254  -->  C00251 ,\n",
      "R01714 : C00251  -->  C01269 ,\n",
      "R03460 : C01269  -->  C03175 ,\n",
      "R02412 : C03175  -->  C00493 ,\n",
      "R02415 : C00493  -->  C02637 ,\n",
      "R01627 : C02637  -->  C00230 ,\n",
      "R05274 : C00230  -->  C06672 ,\n",
      "R05699 : C06672  -->  C00755 ,\n",
      "[['R07211', 'C00082', 'C00079'], ['R01376', 'C00079', 'C00166'], ['R01373', 'C00166', 'C00254'], ['R01715', 'C00254', 'C00251'], ['R01714', 'C00251', 'C01269'], ['R03460', 'C01269', 'C03175'], ['R02412', 'C03175', 'C00493'], ['R02415', 'C00493', 'C02637'], ['R01627', 'C02637', 'C00230'], ['R05274', 'C00230', 'C06672'], ['R05699', 'C06672', 'C00755']]\n"
     ]
    }
   ],
   "source": [
    "import numpy as np\n",
    "import pandas as pd\n",
    "from fit_funcs import get_gibbs\n",
    "from fit_funcs import get_yield\n",
    "\n",
    "res_path = 'cache/result/single_vanillin_10_40_50/'\n",
    "hist = np.load(res_path+'history.npz', allow_pickle=True)\n",
    "res = np.load(res_path+'result.npz', allow_pickle=True)\n",
    "\n",
    "X = res['X'][-1]\n",
    "F = res['F'][-1]\n",
    "\n",
    "length = X.chrom.length()\n",
    "gibbs = get_gibbs(X.chrom.get_rxn_list())\n",
    "_yield = get_yield(X.chrom.get_rxn_list())\n",
    "print('=====The best chromesome is ======')\n",
    "print('Length:%f \\nGibbs:%f \\nYield: %f\\n'%(length, gibbs, _yield))\n",
    "print(X.chrom.travel())"
   ]
  },
  {
   "cell_type": "markdown",
   "metadata": {},
   "source": [
    "## 235"
   ]
  },
  {
   "cell_type": "code",
   "execution_count": 36,
   "metadata": {},
   "outputs": [
    {
     "name": "stdout",
     "output_type": "stream",
     "text": [
      "Maximum theoretical yield = 50.00000000000001 mmol-Dgly/mmol-glc\n",
      "=====The best chromesome is ======\n",
      "Length:11.000000 \n",
      "Gibbs:-20.415781 \n",
      "Yield: 50.000000\n",
      "\n",
      "R11917 : C00082  -->  C03765 ,\n",
      "R02697 : C03765  -->  C00642 ,\n",
      "R06790 : C00642  -->  C07086 ,\n",
      "R12504 : C07086  -->  C01455 ,\n",
      "R05666 : C01455  -->  C01468 ,\n",
      "R12133 : C01468  -->  C17467 ,\n",
      "R12134 : C17467  -->  C00633 ,\n",
      "R01293 : C00633  -->  C00156 ,\n",
      "R01298 : C00156  -->  C00230 ,\n",
      "R05274 : C00230  -->  C06672 ,\n",
      "R05699 : C06672  -->  C00755 ,\n",
      "[['R11917', 'C00082', 'C03765'], ['R02697', 'C03765', 'C00642'], ['R06790', 'C00642', 'C07086'], ['R12504', 'C07086', 'C01455'], ['R05666', 'C01455', 'C01468'], ['R12133', 'C01468', 'C17467'], ['R12134', 'C17467', 'C00633'], ['R01293', 'C00633', 'C00156'], ['R01298', 'C00156', 'C00230'], ['R05274', 'C00230', 'C06672'], ['R05699', 'C06672', 'C00755']]\n"
     ]
    }
   ],
   "source": [
    "import numpy as np\n",
    "import pandas as pd\n",
    "from fit_funcs import get_gibbs\n",
    "from fit_funcs import get_yield\n",
    "\n",
    "res_path = 'cache/result/single_vanillin_20_30_50/'\n",
    "hist = np.load(res_path+'history.npz', allow_pickle=True)\n",
    "res = np.load(res_path+'result.npz', allow_pickle=True)\n",
    "\n",
    "X = res['X'][-1]\n",
    "F = res['F'][-1]\n",
    "\n",
    "length = X.chrom.length()\n",
    "gibbs = get_gibbs(X.chrom.get_rxn_list())\n",
    "_yield = get_yield(X.chrom.get_rxn_list())\n",
    "print('=====The best chromesome is ======')\n",
    "print('Length:%f \\nGibbs:%f \\nYield: %f\\n'%(length, gibbs, _yield))\n",
    "print(X.chrom.travel())"
   ]
  },
  {
   "cell_type": "code",
   "execution_count": 37,
   "metadata": {},
   "outputs": [],
   "source": [
    "## 333"
   ]
  },
  {
   "cell_type": "code",
   "execution_count": 38,
   "metadata": {},
   "outputs": [
    {
     "name": "stdout",
     "output_type": "stream",
     "text": [
      "Maximum theoretical yield = 49.99999999999999 mmol-Dgly/mmol-glc\n",
      "=====The best chromesome is ======\n",
      "Length:7.000000 \n",
      "Gibbs:-20.875906 \n",
      "Yield: 50.000000\n",
      "\n",
      "R10246 : C00082  -->  C01468 ,\n",
      "R12133 : C01468  -->  C17467 ,\n",
      "R12134 : C17467  -->  C00633 ,\n",
      "R01293 : C00633  -->  C00156 ,\n",
      "R01298 : C00156  -->  C00230 ,\n",
      "R05274 : C00230  -->  C06672 ,\n",
      "R05699 : C06672  -->  C00755 ,\n",
      "[['R10246', 'C00082', 'C01468'], ['R12133', 'C01468', 'C17467'], ['R12134', 'C17467', 'C00633'], ['R01293', 'C00633', 'C00156'], ['R01298', 'C00156', 'C00230'], ['R05274', 'C00230', 'C06672'], ['R05699', 'C06672', 'C00755']]\n"
     ]
    }
   ],
   "source": [
    "import numpy as np\n",
    "import pandas as pd\n",
    "from fit_funcs import get_gibbs\n",
    "from fit_funcs import get_yield\n",
    "\n",
    "res_path = 'cache/result/single_vanillin_33_33_33/'\n",
    "hist = np.load(res_path+'history.npz', allow_pickle=True)\n",
    "res = np.load(res_path+'result.npz', allow_pickle=True)\n",
    "\n",
    "X = res['X'][-1]\n",
    "F = res['F'][-1]\n",
    "\n",
    "length = X.chrom.length()\n",
    "gibbs = get_gibbs(X.chrom.get_rxn_list())\n",
    "_yield = get_yield(X.chrom.get_rxn_list())\n",
    "print('=====The best chromesome is ======')\n",
    "print('Length:%f \\nGibbs:%f \\nYield: %f\\n'%(length, gibbs, _yield))\n",
    "print(X.chrom.travel())"
   ]
  },
  {
   "cell_type": "markdown",
   "metadata": {},
   "source": [
    "# Glycolysis"
   ]
  },
  {
   "cell_type": "markdown",
   "metadata": {},
   "source": [
    "## 145"
   ]
  },
  {
   "cell_type": "code",
   "execution_count": 2,
   "metadata": {},
   "outputs": [
    {
     "name": "stdout",
     "output_type": "stream",
     "text": [
      "Maximum theoretical yield = 34.6211428571433 mmol-Dgly/mmol-glc\n",
      "=====The best chromesome is ======\n",
      "Length:4.000000 \n",
      "Gibbs:-17.719926 \n",
      "Yield: 34.621143\n",
      "\n",
      "R00802 : C00267  -->  C00089 ,\n",
      "R00806 : C00089  -->  C00095 ,\n",
      "R00865 : C00095  -->  C00125 ,\n",
      "R00196 : C00125  -->  C00022 ,\n",
      "[['R00802', 'C00267', 'C00089'], ['R00806', 'C00089', 'C00095'], ['R00865', 'C00095', 'C00125'], ['R00196', 'C00125', 'C00022']]\n"
     ]
    }
   ],
   "source": [
    "import numpy as np\n",
    "import pandas as pd\n",
    "from fit_funcs import get_gibbs\n",
    "from fit_funcs import get_yield\n",
    "\n",
    "res_path = 'cache/result2/single_glycolysis_10_40_50/'\n",
    "hist = np.load(res_path+'history.npz', allow_pickle=True)\n",
    "res = np.load(res_path+'result.npz', allow_pickle=True)\n",
    "\n",
    "X = res['X'][-1]\n",
    "F = res['F'][-1]\n",
    "\n",
    "length = X.chrom.length()\n",
    "gibbs = get_gibbs(X.chrom.get_rxn_list())\n",
    "_yield = get_yield(X.chrom.get_rxn_list())\n",
    "print('=====The best chromesome is ======')\n",
    "print('Length:%f \\nGibbs:%f \\nYield: %f\\n'%(length, gibbs, _yield))\n",
    "print(X.chrom.travel())"
   ]
  },
  {
   "cell_type": "markdown",
   "metadata": {},
   "source": [
    "## 333"
   ]
  },
  {
   "cell_type": "code",
   "execution_count": 4,
   "metadata": {},
   "outputs": [
    {
     "name": "stdout",
     "output_type": "stream",
     "text": [
      "This pathway EX_glc__D_e is 50, so the Maximum theoretical yield = 0\n",
      "=====The best chromesome is ======\n",
      "Length:7.000000 \n",
      "Gibbs:-2.375495 \n",
      "Yield: 0.010000\n",
      "\n",
      "R09085 : C00267  -->  C00668 ,\n",
      "R02739 : C00668  -->  C01172 ,\n",
      "R02728 : C01172  -->  C00663 ,\n",
      "R05767 : C00663  -->  C00689 ,\n",
      "R02780 : C00689  -->  C04261 ,\n",
      "R02628 : C04261  -->  C00074 ,\n",
      "R00659 : C00074  -->  C00022 ,\n",
      "[['R09085', 'C00267', 'C00668'], ['R02739', 'C00668', 'C01172'], ['R02728', 'C01172', 'C00663'], ['R05767', 'C00663', 'C00689'], ['R02780', 'C00689', 'C04261'], ['R02628', 'C04261', 'C00074'], ['R00659', 'C00074', 'C00022']]\n"
     ]
    }
   ],
   "source": [
    "import numpy as np\n",
    "import pandas as pd\n",
    "from fit_funcs import get_gibbs\n",
    "from fit_funcs import get_yield\n",
    "\n",
    "res_path = 'cache/result/single_glycolysis_33_33_33/'\n",
    "hist = np.load(res_path+'history.npz', allow_pickle=True)\n",
    "res = np.load(res_path+'result.npz', allow_pickle=True)\n",
    "\n",
    "X = res['X'][-1]\n",
    "F = res['F'][-1]\n",
    "\n",
    "length = X.chrom.length()\n",
    "gibbs = get_gibbs(X.chrom.get_rxn_list())\n",
    "_yield = get_yield(X.chrom.get_rxn_list())\n",
    "print('=====The best chromesome is ======')\n",
    "print('Length:%f \\nGibbs:%f \\nYield: %f\\n'%(length, gibbs, _yield))\n",
    "print(X.chrom.travel())"
   ]
  },
  {
   "cell_type": "code",
   "execution_count": null,
   "metadata": {},
   "outputs": [],
   "source": []
  },
  {
   "cell_type": "code",
   "execution_count": null,
   "metadata": {},
   "outputs": [],
   "source": []
  },
  {
   "cell_type": "code",
   "execution_count": null,
   "metadata": {},
   "outputs": [],
   "source": []
  },
  {
   "cell_type": "code",
   "execution_count": null,
   "metadata": {},
   "outputs": [],
   "source": []
  },
  {
   "cell_type": "code",
   "execution_count": null,
   "metadata": {},
   "outputs": [],
   "source": []
  },
  {
   "cell_type": "code",
   "execution_count": null,
   "metadata": {},
   "outputs": [],
   "source": []
  },
  {
   "cell_type": "code",
   "execution_count": null,
   "metadata": {},
   "outputs": [],
   "source": []
  }
 ],
 "metadata": {
  "kernelspec": {
   "display_name": "Python 3.8.15 ('bda')",
   "language": "python",
   "name": "python3"
  },
  "language_info": {
   "codemirror_mode": {
    "name": "ipython",
    "version": 3
   },
   "file_extension": ".py",
   "mimetype": "text/x-python",
   "name": "python",
   "nbconvert_exporter": "python",
   "pygments_lexer": "ipython3",
   "version": "3.8.15"
  },
  "orig_nbformat": 4,
  "vscode": {
   "interpreter": {
    "hash": "d1f671cd8cc995974f13d25efc00e1bacd9da06df2b4cb7efa4da32e5a0deea6"
   }
  }
 },
 "nbformat": 4,
 "nbformat_minor": 2
}
