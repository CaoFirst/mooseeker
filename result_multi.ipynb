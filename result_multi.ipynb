{
 "cells": [
  {
   "cell_type": "markdown",
   "metadata": {},
   "source": [
    "# Multi-Vanillin"
   ]
  },
  {
   "cell_type": "code",
   "execution_count": 1,
   "metadata": {},
   "outputs": [],
   "source": [
    "import numpy as np\n",
    "import pandas as pd\n",
    "\n",
    "res_path = '/home/caoyh/project/MooSeeker/MyNewMooSeeker/cache/result/multi_vanillin/'\n",
    "hist = np.load(res_path+'history.npz', allow_pickle=True)\n",
    "res = np.load(res_path+'result.npz', allow_pickle=True)\n",
    "\n",
    "# history\n",
    "# X \n",
    "hist_x = hist['X'].tolist()\n",
    "X = []\n",
    "for i in range(len(hist_x)):\n",
    "    X += hist_x[i]\n",
    "\n",
    "# F\n",
    "F = []\n",
    "for i in range(len(hist['F'])):\n",
    "    F += hist['F'][i]\n",
    "F_all = pd.DataFrame(F, columns=['Length', 'Gibbs', 'Yield'])\n",
    "# 1. 去掉重复 2. 去掉不可用的部分\n",
    "F_pd = F_all.drop_duplicates(keep='last')\n",
    "F_pd = F_pd[F_pd['Yield']>-49]\n",
    "F_pd= F_pd[F_pd['Gibbs']<0]\n",
    "F_pd= F_pd[F_pd['Yield']<0]\n",
    "\n",
    "\n",
    "## Pareto Front\n",
    "# 1. calculate the front of each f\n",
    "from pymoo.util.nds.fast_non_dominated_sort import fast_non_dominated_sort\n",
    "fronts = fast_non_dominated_sort(np.array(F_pd))\n",
    "# 2. let the front be the lable of each f\n",
    "label = np.zeros(shape=(len(F_pd),1), dtype=int)\n",
    "for i in range(len(fronts)):\n",
    "    for k in fronts[i]:\n",
    "        label[k] = i\n",
    "F_pd['Label'] = label\n",
    "# 3. sorted the pd by label, and save f and its label to csv \n",
    "sorted_f = F_pd.sort_values(by='Label')"
   ]
  },
  {
   "cell_type": "code",
   "execution_count": 2,
   "metadata": {},
   "outputs": [
    {
     "name": "stdout",
     "output_type": "stream",
     "text": [
      "=====Min Length=====\n",
      "Length     5.000000\n",
      "Gibbs    -17.053108\n",
      "Yield     -1.353822\n",
      "Label      0.000000\n",
      "Name: 321, dtype: float64\n",
      "R12759 : C00082  -->  C00146 ,\n",
      "R00815 : C00146  -->  C00090 ,\n",
      "R00822 : C00090  -->  C00230 ,\n",
      "R10136 : C00230  -->  C06672 ,\n",
      "R05699 : C06672  -->  C00755 ,\n",
      "[['R12759', 'C00082', 'C00146'], ['R00815', 'C00146', 'C00090'], ['R00822', 'C00090', 'C00230'], ['R10136', 'C00230', 'C06672'], ['R05699', 'C06672', 'C00755']]\n"
     ]
    }
   ],
   "source": [
    "print('=====Min Length=====')\n",
    "idx = sorted_f.loc[sorted_f.Length==min(sorted_f.Length)].index[0]\n",
    "print(sorted_f.loc[idx])\n",
    "print(X[idx][0].chrom.travel())"
   ]
  },
  {
   "cell_type": "code",
   "execution_count": 3,
   "metadata": {},
   "outputs": [
    {
     "name": "stdout",
     "output_type": "stream",
     "text": [
      "=====Min Gibbs=====\n",
      "Length     8.000000\n",
      "Gibbs    -28.832895\n",
      "Yield     -0.010000\n",
      "Label      0.000000\n",
      "Name: 332, dtype: float64\n",
      "R00729 : C00082  -->  C01179 ,\n",
      "R02521 : C01179  -->  C00544 ,\n",
      "R02520 : C00544  -->  C05585 ,\n",
      "R02655 : C05585  -->  C00628 ,\n",
      "R02589 : C00628  -->  C00587 ,\n",
      "R01628 : C00587  -->  C00230 ,\n",
      "R05274 : C00230  -->  C06672 ,\n",
      "R05699 : C06672  -->  C00755 ,\n",
      "[['R00729', 'C00082', 'C01179'], ['R02521', 'C01179', 'C00544'], ['R02520', 'C00544', 'C05585'], ['R02655', 'C05585', 'C00628'], ['R02589', 'C00628', 'C00587'], ['R01628', 'C00587', 'C00230'], ['R05274', 'C00230', 'C06672'], ['R05699', 'C06672', 'C00755']]\n"
     ]
    }
   ],
   "source": [
    "print('=====Min Gibbs=====')\n",
    "idx = sorted_f.loc[sorted_f.Gibbs==min(sorted_f.Gibbs)].index[0]\n",
    "print(sorted_f.loc[idx])\n",
    "print(X[idx][0].chrom.travel())"
   ]
  },
  {
   "cell_type": "code",
   "execution_count": 4,
   "metadata": {},
   "outputs": [
    {
     "name": "stdout",
     "output_type": "stream",
     "text": [
      "=====Min -Yield=====\n",
      "Length    11.000000\n",
      "Gibbs     -0.311854\n",
      "Yield    -42.780674\n",
      "Label      0.000000\n",
      "Name: 67, dtype: float64\n",
      "R09830 : C00082  -->  C01179 ,\n",
      "R00729 : C01179  -->  C00082 ,\n",
      "R10246 : C00082  -->  C01468 ,\n",
      "R03568 : C01468  -->  C06730 ,\n",
      "R05294 : C06730  -->  C06677 ,\n",
      "R05281 : C06677  -->  C06678 ,\n",
      "R05271 : C06678  -->  C06679 ,\n",
      "R05272 : C06679  -->  C02236 ,\n",
      "R01636 : C02236  -->  C00230 ,\n",
      "R05274 : C00230  -->  C06672 ,\n",
      "R05699 : C06672  -->  C00755 ,\n",
      "[['R09830', 'C00082', 'C01179'], ['R00729', 'C01179', 'C00082'], ['R10246', 'C00082', 'C01468'], ['R03568', 'C01468', 'C06730'], ['R05294', 'C06730', 'C06677'], ['R05281', 'C06677', 'C06678'], ['R05271', 'C06678', 'C06679'], ['R05272', 'C06679', 'C02236'], ['R01636', 'C02236', 'C00230'], ['R05274', 'C00230', 'C06672'], ['R05699', 'C06672', 'C00755']]\n"
     ]
    }
   ],
   "source": [
    "print('=====Min -Yield=====')\n",
    "idx = sorted_f.loc[sorted_f.Yield==min(sorted_f.Yield)].index[0]\n",
    "print(sorted_f.loc[idx])\n",
    "print(X[idx][0].chrom.travel())"
   ]
  },
  {
   "cell_type": "markdown",
   "metadata": {},
   "source": [
    "# Multi-Glycolysis"
   ]
  },
  {
   "cell_type": "code",
   "execution_count": 5,
   "metadata": {},
   "outputs": [],
   "source": [
    "import numpy as np\n",
    "import pandas as pd\n",
    "\n",
    "res_path = '/home/caoyh/project/MooSeeker/MyNewMooSeeker/cache/result/multi_glycolysis/'\n",
    "hist = np.load(res_path+'history.npz', allow_pickle=True)\n",
    "res = np.load(res_path+'result.npz', allow_pickle=True)\n",
    "\n",
    "# history\n",
    "# X \n",
    "hist_x = hist['X'].tolist()\n",
    "X = []\n",
    "for i in range(len(hist_x)):\n",
    "    X += hist_x[i]\n",
    "\n",
    "# F\n",
    "F = []\n",
    "for i in range(len(hist['F'])):\n",
    "    F += hist['F'][i]\n",
    "F_all = pd.DataFrame(F, columns=['Length', 'Gibbs', 'Yield'])\n",
    "# 1. 去掉重复 2. 去掉不可用的部分\n",
    "F_pd = F_all.drop_duplicates(keep='last')\n",
    "F_pd = F_pd[F_pd['Yield']>-49]\n",
    "F_pd= F_pd[F_pd['Gibbs']<0]\n",
    "F_pd= F_pd[F_pd['Yield']<0]\n",
    "\n",
    "\n",
    "## Pareto Front\n",
    "# 1. calculate the front of each f\n",
    "from pymoo.util.nds.fast_non_dominated_sort import fast_non_dominated_sort\n",
    "fronts = fast_non_dominated_sort(np.array(F_pd))\n",
    "# 2. let the front be the lable of each f\n",
    "label = np.zeros(shape=(len(F_pd),1), dtype=int)\n",
    "for i in range(len(fronts)):\n",
    "    for k in fronts[i]:\n",
    "        label[k] = i\n",
    "F_pd['Label'] = label\n",
    "# 3. sorted the pd by label, and save f and its label to csv \n",
    "sorted_f = F_pd.sort_values(by='Label')"
   ]
  },
  {
   "cell_type": "code",
   "execution_count": 6,
   "metadata": {},
   "outputs": [
    {
     "name": "stdout",
     "output_type": "stream",
     "text": [
      "=====Min Length=====\n",
      "Length     4.000000\n",
      "Gibbs    -15.012888\n",
      "Yield    -38.509167\n",
      "Label      0.000000\n",
      "Name: 227, dtype: float64\n",
      "R07265 : C00267  -->  C01083 ,\n",
      "R00010 : C01083  -->  C00031 ,\n",
      "R03323 : C00031  -->  C00149 ,\n",
      "R00216 : C00149  -->  C00022 ,\n",
      "[['R07265', 'C00267', 'C01083'], ['R00010', 'C01083', 'C00031'], ['R03323', 'C00031', 'C00149'], ['R00216', 'C00149', 'C00022']]\n"
     ]
    }
   ],
   "source": [
    "print('=====Min Length=====')\n",
    "idx = sorted_f.loc[sorted_f.Length==min(sorted_f.Length)].index[0]\n",
    "print(sorted_f.loc[idx])\n",
    "print(X[idx][0].chrom.travel())"
   ]
  },
  {
   "cell_type": "code",
   "execution_count": 7,
   "metadata": {},
   "outputs": [
    {
     "name": "stdout",
     "output_type": "stream",
     "text": [
      "=====Min Gibbs=====\n",
      "Length     5.000000\n",
      "Gibbs    -23.780574\n",
      "Yield     -4.910000\n",
      "Label      0.000000\n",
      "Name: 233, dtype: float64\n",
      "R00802 : C00267  -->  C00089 ,\n",
      "R05140 : C00089  -->  C00031 ,\n",
      "R00725 : C00031  -->  C00104 ,\n",
      "R00726 : C00104  -->  C00036 ,\n",
      "R12212 : C00036  -->  C00022 ,\n",
      "[['R00802', 'C00267', 'C00089'], ['R05140', 'C00089', 'C00031'], ['R00725', 'C00031', 'C00104'], ['R00726', 'C00104', 'C00036'], ['R12212', 'C00036', 'C00022']]\n"
     ]
    }
   ],
   "source": [
    "print('=====Min Gibbs=====')\n",
    "idx = sorted_f.loc[sorted_f.Gibbs==min(sorted_f.Gibbs)].index[0]\n",
    "print(sorted_f.loc[idx])\n",
    "print(X[idx][0].chrom.travel())"
   ]
  },
  {
   "cell_type": "code",
   "execution_count": 8,
   "metadata": {},
   "outputs": [
    {
     "name": "stdout",
     "output_type": "stream",
     "text": [
      "=====Min -Yield=====\n",
      "Length     4.000000\n",
      "Gibbs    -15.012888\n",
      "Yield    -38.509167\n",
      "Label      0.000000\n",
      "Name: 227, dtype: float64\n",
      "R07265 : C00267  -->  C01083 ,\n",
      "R00010 : C01083  -->  C00031 ,\n",
      "R03323 : C00031  -->  C00149 ,\n",
      "R00216 : C00149  -->  C00022 ,\n",
      "[['R07265', 'C00267', 'C01083'], ['R00010', 'C01083', 'C00031'], ['R03323', 'C00031', 'C00149'], ['R00216', 'C00149', 'C00022']]\n"
     ]
    }
   ],
   "source": [
    "print('=====Min -Yield=====')\n",
    "idx = sorted_f.loc[sorted_f.Yield==min(sorted_f.Yield)].index[0]\n",
    "print(sorted_f.loc[idx])\n",
    "print(X[idx][0].chrom.travel())"
   ]
  },
  {
   "cell_type": "code",
   "execution_count": null,
   "metadata": {},
   "outputs": [],
   "source": []
  },
  {
   "cell_type": "markdown",
   "metadata": {},
   "source": [
    "# 画图"
   ]
  },
  {
   "cell_type": "code",
   "execution_count": 1,
   "metadata": {},
   "outputs": [
    {
     "name": "stdout",
     "output_type": "stream",
     "text": [
      "2022.09.1\n"
     ]
    }
   ],
   "source": [
    "from rdkit import Chem\n",
    "from rdkit.Chem import Draw\n",
    "from rdkit.Chem.Draw import rdMolDraw2D\n",
    "from rdkit.Chem import rdDepictor\n",
    "rdDepictor.SetPreferCoordGen(True)\n",
    "from rdkit.Chem.Draw import IPythonConsole\n",
    "from IPython.display import SVG\n",
    "import rdkit\n",
    "print(rdkit.__version__)"
   ]
  },
  {
   "cell_type": "code",
   "execution_count": 2,
   "metadata": {},
   "outputs": [],
   "source": [
    "from rdkit import Chem\n",
    "from rdkit.Chem.Draw import rdMolDraw2D\n",
    "from io import BytesIO\n",
    "import numpy as np\n",
    "from PIL import Image, ImageOps\n",
    "def _drawerToImage(d2d):\n",
    "    try:\n",
    "        import Image\n",
    "    except ImportError:\n",
    "        from PIL import Image\n",
    "    sio = BytesIO(d2d.GetDrawingText())\n",
    "    return Image.open(sio)\n",
    "\n",
    "def clourMol(mol,highlightAtoms_p=None,highlightAtomColors_p=None,highlightBonds_p=None,highlightBondColors_p=None,sz=[400,400]):\n",
    "    '''\n",
    "\n",
    "    '''\n",
    "    d2d = rdMolDraw2D.MolDraw2DCairo(sz[0], sz[1])\n",
    "    op = d2d.drawOptions()\n",
    "    op.dotsPerAngstrom = 20\n",
    "    op.useBWAtomPalette()\n",
    "    mc = rdMolDraw2D.PrepareMolForDrawing(mol)\n",
    "    d2d.DrawMolecule(mc, legend='', highlightAtoms=highlightAtoms_p,highlightAtomColors=highlightAtomColors_p, highlightBonds= highlightBonds_p,highlightBondColors=highlightBondColors_p)\n",
    "    d2d.FinishDrawing()\n",
    "    product_img=_drawerToImage(d2d)\n",
    "    return product_img\n",
    "def StripAlphaFromImage(img):\n",
    "    '''This function takes an RGBA PIL image and returns an RGB image'''\n",
    "\n",
    "    if len(img.split()) == 3:\n",
    "        return img\n",
    "    return Image.merge('RGB', img.split()[:3])\n",
    "\n",
    "\n",
    "def TrimImgByWhite(img, padding=10):\n",
    "    '''This function takes a PIL image, img, and crops it to the minimum rectangle\n",
    "    based on its whiteness/transparency. 5 pixel padding used automatically.'''\n",
    "\n",
    "    # Convert to array\n",
    "    as_array = np.array(img)  # N x N x (r,g,b,a)\n",
    "\n",
    "    # Set previously-transparent pixels to white\n",
    "    if as_array.shape[2] == 4:\n",
    "        as_array[as_array[:, :, 3] == 0] = [255, 255, 255, 0]\n",
    "\n",
    "    as_array = as_array[:, :, :3]\n",
    "\n",
    "    # Content defined as non-white and non-transparent pixel\n",
    "    has_content = np.sum(as_array, axis=2, dtype=np.uint32) != 255 * 3\n",
    "    xs, ys = np.nonzero(has_content)\n",
    "\n",
    "    # Crop down\n",
    "    margin = 5\n",
    "    x_range = max([min(xs) - margin, 0]), min([max(xs) + margin, as_array.shape[0]])\n",
    "    y_range = max([min(ys) - margin, 0]), min([max(ys) + margin, as_array.shape[1]])\n",
    "    as_array_cropped = as_array[\n",
    "        x_range[0]:x_range[1], y_range[0]:y_range[1], 0:3]\n",
    "\n",
    "    img = Image.fromarray(as_array_cropped, mode='RGB')\n",
    "\n",
    "    return ImageOps.expand(img, border=padding, fill=(255, 255, 255))\n"
   ]
  },
  {
   "cell_type": "code",
   "execution_count": 3,
   "metadata": {},
   "outputs": [],
   "source": [
    "from utils import read_json\n",
    "cpd_dict = read_json('cache/data/all_cpd_dict.json')"
   ]
  },
  {
   "cell_type": "code",
   "execution_count": 4,
   "metadata": {},
   "outputs": [
    {
     "data": {
      "image/svg+xml": "<svg xmlns=\"http://www.w3.org/2000/svg\" xmlns:rdkit=\"http://www.rdkit.org/xml\" xmlns:xlink=\"http://www.w3.org/1999/xlink\" version=\"1.1\" baseProfile=\"full\" xml:space=\"preserve\" width=\"350px\" height=\"300px\" viewBox=\"0 0 350 300\">\n<!-- END OF HEADER -->\n<rect style=\"opacity:1.0;fill:#FFFFFF;stroke:none\" width=\"350.0\" height=\"300.0\" x=\"0.0\" y=\"0.0\"> </rect>\n<path class=\"bond-0 atom-1 atom-0\" d=\"M 217.9,184.5 L 203.4,195.0 L 201.6,191.9 Z\" style=\"fill:#000000;fill-rule:evenodd;fill-opacity:1;stroke:#000000;stroke-width:0.5px;stroke-linecap:butt;stroke-linejoin:miter;stroke-opacity:1;\"/>\n<path class=\"bond-0 atom-1 atom-0\" d=\"M 203.4,195.0 L 185.2,199.3 L 188.9,205.5 Z\" style=\"fill:#0000FF;fill-rule:evenodd;fill-opacity:1;stroke:#0000FF;stroke-width:0.5px;stroke-linecap:butt;stroke-linejoin:miter;stroke-opacity:1;\"/>\n<path class=\"bond-0 atom-1 atom-0\" d=\"M 203.4,195.0 L 201.6,191.9 L 185.2,199.3 Z\" style=\"fill:#0000FF;fill-rule:evenodd;fill-opacity:1;stroke:#0000FF;stroke-width:0.5px;stroke-linecap:butt;stroke-linejoin:miter;stroke-opacity:1;\"/>\n<path class=\"bond-1 atom-1 atom-2\" d=\"M 217.9,184.5 L 217.9,136.2\" style=\"fill:none;fill-rule:evenodd;stroke:#000000;stroke-width:2.0px;stroke-linecap:butt;stroke-linejoin:miter;stroke-opacity:1\"/>\n<path class=\"bond-2 atom-2 atom-3\" d=\"M 217.9,136.2 L 176.0,112.1\" style=\"fill:none;fill-rule:evenodd;stroke:#000000;stroke-width:2.0px;stroke-linecap:butt;stroke-linejoin:miter;stroke-opacity:1\"/>\n<path class=\"bond-3 atom-3 atom-4\" d=\"M 176.0,112.1 L 175.9,63.7\" style=\"fill:none;fill-rule:evenodd;stroke:#000000;stroke-width:2.0px;stroke-linecap:butt;stroke-linejoin:miter;stroke-opacity:1\"/>\n<path class=\"bond-3 atom-3 atom-4\" d=\"M 168.7,107.9 L 168.7,67.9\" style=\"fill:none;fill-rule:evenodd;stroke:#000000;stroke-width:2.0px;stroke-linecap:butt;stroke-linejoin:miter;stroke-opacity:1\"/>\n<path class=\"bond-4 atom-4 atom-5\" d=\"M 175.9,63.7 L 134.1,39.6\" style=\"fill:none;fill-rule:evenodd;stroke:#000000;stroke-width:2.0px;stroke-linecap:butt;stroke-linejoin:miter;stroke-opacity:1\"/>\n<path class=\"bond-5 atom-5 atom-6\" d=\"M 134.1,39.6 L 92.2,63.8\" style=\"fill:none;fill-rule:evenodd;stroke:#000000;stroke-width:2.0px;stroke-linecap:butt;stroke-linejoin:miter;stroke-opacity:1\"/>\n<path class=\"bond-5 atom-5 atom-6\" d=\"M 134.1,48.0 L 99.5,68.0\" style=\"fill:none;fill-rule:evenodd;stroke:#000000;stroke-width:2.0px;stroke-linecap:butt;stroke-linejoin:miter;stroke-opacity:1\"/>\n<path class=\"bond-6 atom-6 atom-7\" d=\"M 92.2,63.8 L 76.8,54.9\" style=\"fill:none;fill-rule:evenodd;stroke:#000000;stroke-width:2.0px;stroke-linecap:butt;stroke-linejoin:miter;stroke-opacity:1\"/>\n<path class=\"bond-6 atom-6 atom-7\" d=\"M 76.8,54.9 L 61.4,46.0\" style=\"fill:none;fill-rule:evenodd;stroke:#FF0000;stroke-width:2.0px;stroke-linecap:butt;stroke-linejoin:miter;stroke-opacity:1\"/>\n<path class=\"bond-7 atom-6 atom-8\" d=\"M 92.2,63.8 L 92.3,112.1\" style=\"fill:none;fill-rule:evenodd;stroke:#000000;stroke-width:2.0px;stroke-linecap:butt;stroke-linejoin:miter;stroke-opacity:1\"/>\n<path class=\"bond-8 atom-8 atom-9\" d=\"M 92.3,112.1 L 134.2,136.3\" style=\"fill:none;fill-rule:evenodd;stroke:#000000;stroke-width:2.0px;stroke-linecap:butt;stroke-linejoin:miter;stroke-opacity:1\"/>\n<path class=\"bond-8 atom-8 atom-9\" d=\"M 99.5,108.0 L 134.1,127.9\" style=\"fill:none;fill-rule:evenodd;stroke:#000000;stroke-width:2.0px;stroke-linecap:butt;stroke-linejoin:miter;stroke-opacity:1\"/>\n<path class=\"bond-9 atom-1 atom-10\" d=\"M 217.9,184.5 L 259.8,208.7\" style=\"fill:none;fill-rule:evenodd;stroke:#000000;stroke-width:2.0px;stroke-linecap:butt;stroke-linejoin:miter;stroke-opacity:1\"/>\n<path class=\"bond-10 atom-10 atom-11\" d=\"M 259.8,212.9 L 276.1,203.4\" style=\"fill:none;fill-rule:evenodd;stroke:#000000;stroke-width:2.0px;stroke-linecap:butt;stroke-linejoin:miter;stroke-opacity:1\"/>\n<path class=\"bond-10 atom-10 atom-11\" d=\"M 276.1,203.4 L 292.4,194.0\" style=\"fill:none;fill-rule:evenodd;stroke:#FF0000;stroke-width:2.0px;stroke-linecap:butt;stroke-linejoin:miter;stroke-opacity:1\"/>\n<path class=\"bond-10 atom-10 atom-11\" d=\"M 256.1,206.6 L 272.5,197.2\" style=\"fill:none;fill-rule:evenodd;stroke:#000000;stroke-width:2.0px;stroke-linecap:butt;stroke-linejoin:miter;stroke-opacity:1\"/>\n<path class=\"bond-10 atom-10 atom-11\" d=\"M 272.5,197.2 L 288.8,187.7\" style=\"fill:none;fill-rule:evenodd;stroke:#FF0000;stroke-width:2.0px;stroke-linecap:butt;stroke-linejoin:miter;stroke-opacity:1\"/>\n<path class=\"bond-11 atom-10 atom-12\" d=\"M 259.8,208.7 L 259.8,226.9\" style=\"fill:none;fill-rule:evenodd;stroke:#000000;stroke-width:2.0px;stroke-linecap:butt;stroke-linejoin:miter;stroke-opacity:1\"/>\n<path class=\"bond-11 atom-10 atom-12\" d=\"M 259.8,226.9 L 259.8,245.0\" style=\"fill:none;fill-rule:evenodd;stroke:#FF0000;stroke-width:2.0px;stroke-linecap:butt;stroke-linejoin:miter;stroke-opacity:1\"/>\n<path class=\"bond-12 atom-9 atom-3\" d=\"M 134.2,136.3 L 176.0,112.1\" style=\"fill:none;fill-rule:evenodd;stroke:#000000;stroke-width:2.0px;stroke-linecap:butt;stroke-linejoin:miter;stroke-opacity:1\"/>\n<path d=\"M 217.9,182.1 L 217.9,184.5 L 220.0,185.8\" style=\"fill:none;stroke:#000000;stroke-width:2.0px;stroke-linecap:butt;stroke-linejoin:miter;stroke-opacity:1;\"/>\n<path d=\"M 217.9,138.6 L 217.9,136.2 L 215.8,135.0\" style=\"fill:none;stroke:#000000;stroke-width:2.0px;stroke-linecap:butt;stroke-linejoin:miter;stroke-opacity:1;\"/>\n<path d=\"M 176.0,66.2 L 175.9,63.7 L 173.9,62.5\" style=\"fill:none;stroke:#000000;stroke-width:2.0px;stroke-linecap:butt;stroke-linejoin:miter;stroke-opacity:1;\"/>\n<path d=\"M 136.2,40.8 L 134.1,39.6 L 132.0,40.8\" style=\"fill:none;stroke:#000000;stroke-width:2.0px;stroke-linecap:butt;stroke-linejoin:miter;stroke-opacity:1;\"/>\n<path d=\"M 92.3,109.7 L 92.3,112.1 L 94.4,113.4\" style=\"fill:none;stroke:#000000;stroke-width:2.0px;stroke-linecap:butt;stroke-linejoin:miter;stroke-opacity:1;\"/>\n<path d=\"M 132.1,135.1 L 134.2,136.3 L 136.2,135.1\" style=\"fill:none;stroke:#000000;stroke-width:2.0px;stroke-linecap:butt;stroke-linejoin:miter;stroke-opacity:1;\"/>\n<path d=\"M 257.7,207.5 L 259.8,208.7 L 259.8,209.6\" style=\"fill:none;stroke:#000000;stroke-width:2.0px;stroke-linecap:butt;stroke-linejoin:miter;stroke-opacity:1;\"/>\n<path class=\"atom-0\" d=\"M 136.4 198.5 L 139.2 198.5 L 139.2 207.2 L 149.7 207.2 L 149.7 198.5 L 152.5 198.5 L 152.5 219.0 L 149.7 219.0 L 149.7 209.5 L 139.2 209.5 L 139.2 219.0 L 136.4 219.0 L 136.4 198.5 \" fill=\"#0000FF\"/>\n<path class=\"atom-0\" d=\"M 156.5 218.3 Q 157.0 217.0, 158.2 216.3 Q 159.4 215.6, 161.0 215.6 Q 163.1 215.6, 164.2 216.7 Q 165.4 217.8, 165.4 219.8 Q 165.4 221.8, 163.9 223.6 Q 162.4 225.5, 159.4 227.7 L 165.6 227.7 L 165.6 229.3 L 156.5 229.3 L 156.5 228.0 Q 159.0 226.2, 160.5 224.9 Q 162.0 223.5, 162.7 222.3 Q 163.5 221.1, 163.5 219.9 Q 163.5 218.6, 162.8 217.8 Q 162.2 217.1, 161.0 217.1 Q 159.9 217.1, 159.2 217.5 Q 158.5 218.0, 158.0 219.0 L 156.5 218.3 \" fill=\"#0000FF\"/>\n<path class=\"atom-0\" d=\"M 171.5 198.5 L 178.3 209.4 Q 178.9 210.4, 180.0 212.4 Q 181.1 214.3, 181.1 214.4 L 181.1 198.5 L 183.9 198.5 L 183.9 219.0 L 181.0 219.0 L 173.8 207.1 Q 173.0 205.7, 172.1 204.1 Q 171.2 202.5, 170.9 202.0 L 170.9 219.0 L 168.3 219.0 L 168.3 198.5 L 171.5 198.5 \" fill=\"#0000FF\"/>\n<path class=\"atom-7\" d=\"M 20.7 29.5 L 23.4 29.5 L 23.4 38.3 L 33.9 38.3 L 33.9 29.5 L 36.7 29.5 L 36.7 50.1 L 33.9 50.1 L 33.9 40.6 L 23.4 40.6 L 23.4 50.1 L 20.7 50.1 L 20.7 29.5 \" fill=\"#FF0000\"/>\n<path class=\"atom-7\" d=\"M 40.9 39.7 Q 40.9 34.8, 43.4 32.1 Q 45.8 29.3, 50.4 29.3 Q 54.9 29.3, 57.4 32.1 Q 59.8 34.8, 59.8 39.7 Q 59.8 44.7, 57.3 47.6 Q 54.9 50.4, 50.4 50.4 Q 45.8 50.4, 43.4 47.6 Q 40.9 44.8, 40.9 39.7 M 50.4 48.1 Q 53.5 48.1, 55.2 46.0 Q 56.9 43.9, 56.9 39.7 Q 56.9 35.7, 55.2 33.7 Q 53.5 31.6, 50.4 31.6 Q 47.2 31.6, 45.5 33.7 Q 43.8 35.7, 43.8 39.7 Q 43.8 43.9, 45.5 46.0 Q 47.2 48.1, 50.4 48.1 \" fill=\"#FF0000\"/>\n<path class=\"atom-11\" d=\"M 292.2 184.5 Q 292.2 179.6, 294.6 176.9 Q 297.1 174.1, 301.6 174.1 Q 306.2 174.1, 308.6 176.9 Q 311.0 179.6, 311.0 184.5 Q 311.0 189.5, 308.6 192.4 Q 306.1 195.2, 301.6 195.2 Q 297.1 195.2, 294.6 192.4 Q 292.2 189.6, 292.2 184.5 M 301.6 192.9 Q 304.7 192.9, 306.4 190.8 Q 308.1 188.7, 308.1 184.5 Q 308.1 180.5, 306.4 178.5 Q 304.7 176.4, 301.6 176.4 Q 298.5 176.4, 296.8 178.4 Q 295.1 180.5, 295.1 184.5 Q 295.1 188.7, 296.8 190.8 Q 298.5 192.9, 301.6 192.9 \" fill=\"#FF0000\"/>\n<path class=\"atom-12\" d=\"M 250.4 257.1 Q 250.4 252.1, 252.8 249.4 Q 255.3 246.6, 259.8 246.6 Q 264.4 246.6, 266.8 249.4 Q 269.2 252.1, 269.2 257.1 Q 269.2 262.1, 266.8 264.9 Q 264.3 267.7, 259.8 267.7 Q 255.3 267.7, 252.8 264.9 Q 250.4 262.1, 250.4 257.1 M 259.8 265.4 Q 262.9 265.4, 264.6 263.3 Q 266.3 261.2, 266.3 257.1 Q 266.3 253.0, 264.6 251.0 Q 262.9 248.9, 259.8 248.9 Q 256.7 248.9, 255.0 251.0 Q 253.3 253.0, 253.3 257.1 Q 253.3 261.2, 255.0 263.3 Q 256.7 265.4, 259.8 265.4 \" fill=\"#FF0000\"/>\n<path class=\"atom-12\" d=\"M 272.4 246.9 L 275.2 246.9 L 275.2 255.6 L 285.7 255.6 L 285.7 246.9 L 288.5 246.9 L 288.5 267.4 L 285.7 267.4 L 285.7 257.9 L 275.2 257.9 L 275.2 267.4 L 272.4 267.4 L 272.4 246.9 \" fill=\"#FF0000\"/>\n<path class=\"note\" d=\"M 164.0 193.1 Q 162.1 193.1, 161.1 191.7 Q 160.2 190.3, 160.2 187.9 Q 160.2 185.4, 161.1 184.0 Q 162.1 182.6, 164.0 182.6 Q 165.9 182.6, 166.8 184.0 Q 167.7 185.4, 167.7 187.9 Q 167.7 190.3, 166.8 191.7 Q 165.9 193.1, 164.0 193.1 M 164.0 192.0 Q 165.1 192.0, 165.7 190.9 Q 166.3 189.9, 166.3 187.9 Q 166.3 185.9, 165.7 184.8 Q 165.1 183.8, 164.0 183.8 Q 162.9 183.8, 162.3 184.8 Q 161.7 185.9, 161.7 187.9 Q 161.7 189.9, 162.3 190.9 Q 162.9 192.0, 164.0 192.0 \" fill=\"#000000\"/>\n<path class=\"note\" d=\"M 204.9 182.5 L 207.1 182.5 L 207.1 174.8 L 204.7 175.6 L 204.3 174.8 L 207.5 173.4 L 208.5 173.5 L 208.5 182.5 L 210.5 182.5 L 210.5 183.7 L 204.9 183.7 L 204.9 182.5 \" fill=\"#000000\"/>\n<path class=\"note\" d=\"M 224.9 127.0 Q 225.3 126.1, 226.2 125.5 Q 227.1 125.0, 228.3 125.0 Q 229.9 125.0, 230.7 125.8 Q 231.6 126.7, 231.6 128.1 Q 231.6 129.7, 230.5 131.1 Q 229.4 132.5, 227.0 134.2 L 231.8 134.2 L 231.8 135.4 L 224.9 135.4 L 224.9 134.4 Q 226.8 133.0, 227.9 132.0 Q 229.1 131.0, 229.6 130.1 Q 230.2 129.2, 230.2 128.2 Q 230.2 127.2, 229.7 126.7 Q 229.2 126.1, 228.3 126.1 Q 227.5 126.1, 226.9 126.5 Q 226.4 126.8, 226.0 127.5 L 224.9 127.0 \" fill=\"#000000\"/>\n<path class=\"note\" d=\"M 187.9 105.8 Q 188.9 106.1, 189.4 106.8 Q 189.9 107.4, 189.9 108.4 Q 189.9 109.3, 189.5 110.0 Q 189.0 110.6, 188.2 111.0 Q 187.4 111.4, 186.4 111.4 Q 185.3 111.4, 184.5 111.0 Q 183.6 110.6, 183.0 109.8 L 183.8 109.0 Q 184.5 109.7, 185.0 110.0 Q 185.5 110.2, 186.4 110.2 Q 187.3 110.2, 187.9 109.7 Q 188.4 109.2, 188.4 108.4 Q 188.4 107.4, 187.9 106.9 Q 187.3 106.4, 186.0 106.4 L 185.3 106.4 L 185.3 105.4 L 185.9 105.4 Q 187.0 105.4, 187.6 104.9 Q 188.2 104.4, 188.2 103.5 Q 188.2 102.8, 187.7 102.4 Q 187.2 102.0, 186.4 102.0 Q 185.5 102.0, 185.0 102.3 Q 184.5 102.6, 184.1 103.4 L 183.1 102.8 Q 183.4 102.0, 184.3 101.4 Q 185.2 100.8, 186.4 100.8 Q 187.9 100.8, 188.8 101.6 Q 189.7 102.3, 189.7 103.5 Q 189.7 104.3, 189.2 104.9 Q 188.8 105.5, 187.9 105.8 \" fill=\"#000000\"/>\n<path class=\"note\" d=\"M 189.1 59.3 L 190.4 59.3 L 190.4 60.5 L 189.1 60.5 L 189.1 62.8 L 187.8 62.8 L 187.8 60.5 L 182.5 60.5 L 182.5 59.6 L 187.0 52.6 L 189.1 52.6 L 189.1 59.3 M 184.1 59.3 L 187.8 59.3 L 187.8 53.5 L 184.1 59.3 \" fill=\"#000000\"/>\n<path class=\"note\" d=\"M 134.3 26.2 Q 135.2 26.2, 136.0 26.6 Q 136.7 27.0, 137.1 27.7 Q 137.5 28.4, 137.5 29.4 Q 137.5 30.5, 137.0 31.2 Q 136.5 32.0, 135.7 32.4 Q 134.8 32.8, 133.9 32.8 Q 132.9 32.8, 132.1 32.4 Q 131.2 32.1, 130.6 31.4 L 131.5 30.5 Q 131.9 31.0, 132.6 31.3 Q 133.2 31.6, 133.9 31.6 Q 134.8 31.6, 135.4 31.0 Q 136.1 30.5, 136.1 29.5 Q 136.1 28.4, 135.4 27.9 Q 134.8 27.3, 133.8 27.3 Q 132.9 27.3, 131.9 27.7 L 131.1 27.3 L 131.6 22.4 L 136.9 22.4 L 136.8 23.6 L 132.8 23.6 L 132.5 26.6 Q 133.4 26.2, 134.3 26.2 \" fill=\"#000000\"/>\n<path class=\"note\" d=\"M 92.7 50.5 Q 93.6 50.5, 94.3 50.9 Q 95.0 51.3, 95.4 52.0 Q 95.8 52.7, 95.8 53.6 Q 95.8 54.6, 95.3 55.4 Q 94.9 56.2, 94.1 56.6 Q 93.3 57.0, 92.3 57.0 Q 90.5 57.0, 89.6 55.8 Q 88.7 54.6, 88.7 52.1 Q 88.7 49.4, 89.8 48.0 Q 90.9 46.5, 93.1 46.5 Q 93.8 46.5, 94.3 46.7 Q 94.9 46.8, 95.4 47.1 L 94.8 48.1 Q 94.1 47.7, 93.1 47.7 Q 91.7 47.7, 91.0 48.6 Q 90.2 49.6, 90.1 51.5 Q 90.7 51.0, 91.3 50.8 Q 92.0 50.5, 92.7 50.5 M 92.4 55.8 Q 92.9 55.8, 93.4 55.6 Q 93.8 55.3, 94.1 54.8 Q 94.3 54.3, 94.3 53.6 Q 94.3 52.7, 93.8 52.2 Q 93.3 51.7, 92.4 51.7 Q 91.8 51.7, 91.2 51.9 Q 90.6 52.2, 90.1 52.6 Q 90.2 54.3, 90.7 55.1 Q 91.3 55.8, 92.4 55.8 \" fill=\"#000000\"/>\n<path class=\"note\" d=\"M 40.2 14.8 L 34.9 14.8 L 34.9 13.6 L 41.7 13.6 L 41.7 14.7 L 37.5 23.9 L 36.1 23.9 L 40.2 14.8 \" fill=\"#000000\"/>\n<path class=\"note\" d=\"M 83.4 118.0 Q 84.4 118.4, 84.9 119.0 Q 85.4 119.6, 85.4 120.6 Q 85.4 121.4, 85.0 122.1 Q 84.5 122.8, 83.7 123.2 Q 82.9 123.5, 81.9 123.5 Q 80.2 123.5, 79.2 122.7 Q 78.2 122.0, 78.2 120.6 Q 78.2 119.7, 78.6 119.1 Q 79.1 118.5, 80.0 118.0 Q 79.3 117.6, 78.9 117.1 Q 78.6 116.5, 78.6 115.6 Q 78.6 114.4, 79.4 113.7 Q 80.3 113.0, 81.8 113.0 Q 83.3 113.0, 84.2 113.7 Q 85.1 114.4, 85.1 115.6 Q 85.1 116.4, 84.6 116.9 Q 84.2 117.5, 83.4 118.0 M 81.8 114.1 Q 81.0 114.1, 80.5 114.5 Q 80.0 114.9, 80.0 115.6 Q 80.0 116.2, 80.3 116.5 Q 80.7 116.9, 81.1 117.1 Q 81.6 117.3, 82.5 117.6 Q 83.1 117.2, 83.3 116.7 Q 83.6 116.2, 83.6 115.6 Q 83.6 114.9, 83.1 114.5 Q 82.7 114.1, 81.8 114.1 M 81.9 122.4 Q 82.8 122.4, 83.4 121.9 Q 84.0 121.4, 84.0 120.6 Q 84.0 120.0, 83.7 119.7 Q 83.4 119.3, 82.9 119.1 Q 82.5 118.9, 81.7 118.6 L 81.0 118.4 Q 80.3 118.9, 80.0 119.4 Q 79.6 119.9, 79.6 120.6 Q 79.6 121.4, 80.3 121.9 Q 80.9 122.4, 81.9 122.4 \" fill=\"#000000\"/>\n<path class=\"note\" d=\"M 134.1 143.2 Q 135.9 143.2, 136.8 144.4 Q 137.7 145.6, 137.7 148.1 Q 137.7 150.8, 136.6 152.3 Q 135.4 153.7, 133.3 153.7 Q 132.6 153.7, 132.1 153.5 Q 131.5 153.4, 131.0 153.1 L 131.6 152.1 Q 132.3 152.5, 133.2 152.5 Q 134.7 152.5, 135.4 151.6 Q 136.2 150.6, 136.3 148.7 Q 135.7 149.2, 135.1 149.4 Q 134.4 149.7, 133.7 149.7 Q 132.8 149.7, 132.1 149.3 Q 131.4 148.9, 131.0 148.2 Q 130.6 147.5, 130.6 146.6 Q 130.6 145.6, 131.0 144.8 Q 131.5 144.0, 132.3 143.6 Q 133.1 143.2, 134.1 143.2 M 132.1 146.6 Q 132.1 147.5, 132.6 148.0 Q 133.1 148.5, 134.0 148.5 Q 134.6 148.5, 135.2 148.3 Q 135.8 148.0, 136.3 147.6 Q 136.2 145.9, 135.7 145.1 Q 135.1 144.4, 134.0 144.4 Q 133.5 144.4, 133.0 144.6 Q 132.6 144.9, 132.3 145.4 Q 132.1 145.9, 132.1 146.6 \" fill=\"#000000\"/>\n<path class=\"note\" d=\"M 252.8 188.5 L 255.1 188.5 L 255.1 180.9 L 252.6 181.6 L 252.3 180.8 L 255.4 179.4 L 256.4 179.5 L 256.4 188.5 L 258.5 188.5 L 258.5 189.7 L 252.8 189.7 L 252.8 188.5 \" fill=\"#000000\"/>\n<path class=\"note\" d=\"M 263.5 189.8 Q 261.6 189.8, 260.7 188.4 Q 259.7 187.0, 259.7 184.6 Q 259.7 182.1, 260.7 180.7 Q 261.6 179.3, 263.5 179.3 Q 265.4 179.3, 266.3 180.7 Q 267.3 182.1, 267.3 184.6 Q 267.3 187.0, 266.3 188.4 Q 265.4 189.8, 263.5 189.8 M 263.5 188.7 Q 264.6 188.7, 265.2 187.6 Q 265.8 186.6, 265.8 184.6 Q 265.8 182.5, 265.2 181.5 Q 264.6 180.5, 263.5 180.5 Q 262.4 180.5, 261.8 181.5 Q 261.2 182.5, 261.2 184.6 Q 261.2 186.6, 261.8 187.6 Q 262.4 188.7, 263.5 188.7 \" fill=\"#000000\"/>\n<path class=\"note\" d=\"M 316.3 176.4 L 318.5 176.4 L 318.5 168.7 L 316.1 169.5 L 315.7 168.6 L 318.9 167.2 L 319.9 167.4 L 319.9 176.4 L 321.9 176.4 L 321.9 177.5 L 316.3 177.5 L 316.3 176.4 \" fill=\"#000000\"/>\n<path class=\"note\" d=\"M 323.7 176.4 L 326.0 176.4 L 326.0 168.7 L 323.5 169.5 L 323.1 168.6 L 326.3 167.2 L 327.3 167.4 L 327.3 176.4 L 329.3 176.4 L 329.3 177.5 L 323.7 177.5 L 323.7 176.4 \" fill=\"#000000\"/>\n<path class=\"note\" d=\"M 253.2 285.2 L 255.5 285.2 L 255.5 277.5 L 253.0 278.3 L 252.6 277.4 L 255.8 276.0 L 256.8 276.2 L 256.8 285.2 L 258.8 285.2 L 258.8 286.4 L 253.2 286.4 L 253.2 285.2 \" fill=\"#000000\"/>\n<path class=\"note\" d=\"M 260.1 278.0 Q 260.5 277.1, 261.4 276.5 Q 262.3 276.0, 263.6 276.0 Q 265.1 276.0, 266.0 276.8 Q 266.8 277.7, 266.8 279.2 Q 266.8 280.7, 265.7 282.1 Q 264.6 283.5, 262.3 285.2 L 267.0 285.2 L 267.0 286.4 L 260.1 286.4 L 260.1 285.4 Q 262.0 284.0, 263.1 283.0 Q 264.3 282.0, 264.8 281.1 Q 265.4 280.2, 265.4 279.2 Q 265.4 278.2, 264.9 277.7 Q 264.4 277.1, 263.6 277.1 Q 262.7 277.1, 262.2 277.5 Q 261.6 277.8, 261.2 278.5 L 260.1 278.0 \" fill=\"#000000\"/>\n<path class=\"note\" d=\"M 204.2 214.5 Q 202.4 214.5, 201.4 213.1 Q 200.5 211.7, 200.5 209.2 Q 200.5 206.8, 201.4 205.4 Q 202.3 204.0, 204.2 204.0 Q 206.1 204.0, 207.1 205.4 Q 208.0 206.8, 208.0 209.2 Q 208.0 211.7, 207.1 213.1 Q 206.1 214.5, 204.2 214.5 M 204.2 213.3 Q 205.4 213.3, 206.0 212.3 Q 206.5 211.3, 206.5 209.2 Q 206.5 207.2, 206.0 206.2 Q 205.4 205.2, 204.2 205.2 Q 203.1 205.2, 202.5 206.2 Q 201.9 207.2, 201.9 209.2 Q 201.9 211.3, 202.5 212.3 Q 203.1 213.3, 204.2 213.3 \" fill=\"#000000\"/>\n<path class=\"note\" d=\"M 208.1 164.4 L 210.3 164.4 L 210.3 156.7 L 207.9 157.5 L 207.5 156.6 L 210.7 155.2 L 211.7 155.4 L 211.7 164.4 L 213.7 164.4 L 213.7 165.5 L 208.1 165.5 L 208.1 164.4 \" fill=\"#000000\"/>\n<path class=\"note\" d=\"M 186.3 133.6 Q 186.6 132.6, 187.5 132.1 Q 188.4 131.5, 189.7 131.5 Q 191.2 131.5, 192.1 132.4 Q 193.0 133.2, 193.0 134.7 Q 193.0 136.2, 191.8 137.6 Q 190.7 139.1, 188.4 140.7 L 193.1 140.7 L 193.1 141.9 L 186.2 141.9 L 186.2 140.9 Q 188.1 139.6, 189.3 138.6 Q 190.4 137.5, 191.0 136.6 Q 191.5 135.7, 191.5 134.8 Q 191.5 133.8, 191.0 133.2 Q 190.5 132.7, 189.7 132.7 Q 188.9 132.7, 188.3 133.0 Q 187.8 133.4, 187.4 134.1 L 186.3 133.6 \" fill=\"#000000\"/>\n<path class=\"note\" d=\"M 162.9 87.7 Q 163.9 88.0, 164.4 88.7 Q 164.9 89.3, 164.9 90.3 Q 164.9 91.2, 164.5 91.9 Q 164.1 92.5, 163.3 92.9 Q 162.5 93.3, 161.4 93.3 Q 160.3 93.3, 159.5 92.9 Q 158.7 92.5, 158.0 91.7 L 158.8 90.9 Q 159.5 91.6, 160.0 91.8 Q 160.6 92.1, 161.4 92.1 Q 162.3 92.1, 162.9 91.6 Q 163.5 91.1, 163.5 90.3 Q 163.5 89.2, 162.9 88.8 Q 162.3 88.3, 161.0 88.3 L 160.3 88.3 L 160.3 87.3 L 160.9 87.3 Q 162.1 87.2, 162.7 86.8 Q 163.3 86.3, 163.3 85.4 Q 163.3 84.7, 162.8 84.3 Q 162.3 83.9, 161.4 83.9 Q 160.6 83.9, 160.0 84.2 Q 159.5 84.5, 159.1 85.3 L 158.1 84.7 Q 158.5 83.9, 159.3 83.3 Q 160.2 82.7, 161.4 82.7 Q 162.9 82.7, 163.8 83.4 Q 164.7 84.2, 164.7 85.4 Q 164.7 86.2, 164.3 86.8 Q 163.8 87.4, 162.9 87.7 \" fill=\"#000000\"/>\n<path class=\"note\" d=\"M 150.5 65.9 L 151.7 65.9 L 151.7 67.0 L 150.5 67.0 L 150.5 69.4 L 149.1 69.4 L 149.1 67.0 L 143.8 67.0 L 143.8 66.1 L 148.3 59.1 L 150.5 59.1 L 150.5 65.9 M 145.5 65.9 L 149.1 65.9 L 149.1 60.0 L 145.5 65.9 \" fill=\"#000000\"/>\n<path class=\"note\" d=\"M 106.2 37.9 Q 107.1 37.9, 107.8 38.3 Q 108.5 38.6, 108.9 39.4 Q 109.4 40.1, 109.4 41.1 Q 109.4 42.1, 108.8 42.9 Q 108.3 43.6, 107.5 44.0 Q 106.7 44.4, 105.7 44.4 Q 104.8 44.4, 103.9 44.1 Q 103.0 43.7, 102.4 43.1 L 103.3 42.2 Q 103.8 42.7, 104.4 43.0 Q 105.1 43.2, 105.7 43.2 Q 106.7 43.2, 107.3 42.7 Q 107.9 42.1, 107.9 41.1 Q 107.9 40.0, 107.3 39.5 Q 106.7 39.0, 105.7 39.0 Q 104.8 39.0, 103.8 39.4 L 103.0 39.0 L 103.5 34.0 L 108.7 34.0 L 108.6 35.2 L 104.6 35.2 L 104.3 38.2 Q 105.3 37.9, 106.2 37.9 \" fill=\"#000000\"/>\n<path class=\"note\" d=\"M 64.5 63.1 Q 65.4 63.1, 66.1 63.5 Q 66.8 63.9, 67.2 64.6 Q 67.6 65.3, 67.6 66.2 Q 67.6 67.2, 67.2 68.0 Q 66.7 68.8, 66.0 69.2 Q 65.2 69.6, 64.2 69.6 Q 62.3 69.6, 61.4 68.4 Q 60.5 67.1, 60.5 64.7 Q 60.5 62.0, 61.6 60.5 Q 62.8 59.1, 65.0 59.1 Q 65.6 59.1, 66.1 59.3 Q 66.7 59.4, 67.2 59.7 L 66.7 60.7 Q 65.9 60.3, 65.0 60.3 Q 63.5 60.3, 62.8 61.2 Q 62.1 62.2, 62.0 64.1 Q 62.5 63.6, 63.1 63.4 Q 63.8 63.1, 64.5 63.1 M 64.2 68.4 Q 64.7 68.4, 65.2 68.1 Q 65.6 67.9, 65.9 67.3 Q 66.2 66.8, 66.2 66.2 Q 66.2 65.3, 65.7 64.8 Q 65.2 64.3, 64.3 64.3 Q 63.6 64.3, 63.0 64.5 Q 62.4 64.8, 62.0 65.2 Q 62.0 66.9, 62.6 67.7 Q 63.1 68.4, 64.2 68.4 \" fill=\"#000000\"/>\n<path class=\"note\" d=\"M 101.5 84.0 L 96.1 84.0 L 96.1 82.8 L 102.9 82.8 L 102.9 83.9 L 98.8 93.1 L 97.4 93.1 L 101.5 84.0 \" fill=\"#000000\"/>\n<path class=\"note\" d=\"M 107.6 136.5 Q 108.5 136.9, 109.1 137.5 Q 109.6 138.1, 109.6 139.2 Q 109.6 140.0, 109.2 140.7 Q 108.7 141.4, 107.9 141.7 Q 107.1 142.1, 106.0 142.1 Q 104.3 142.1, 103.3 141.3 Q 102.4 140.5, 102.4 139.2 Q 102.4 138.3, 102.8 137.7 Q 103.2 137.0, 104.1 136.6 Q 103.5 136.2, 103.1 135.6 Q 102.7 135.1, 102.7 134.2 Q 102.7 133.0, 103.6 132.3 Q 104.5 131.6, 106.0 131.6 Q 107.5 131.6, 108.3 132.3 Q 109.2 133.0, 109.2 134.2 Q 109.2 135.0, 108.8 135.5 Q 108.4 136.1, 107.6 136.5 M 106.0 132.7 Q 105.1 132.7, 104.6 133.1 Q 104.2 133.5, 104.2 134.2 Q 104.2 134.7, 104.5 135.1 Q 104.8 135.5, 105.3 135.7 Q 105.7 135.9, 106.6 136.2 Q 107.2 135.7, 107.5 135.3 Q 107.8 134.8, 107.8 134.2 Q 107.8 133.5, 107.3 133.1 Q 106.8 132.7, 106.0 132.7 M 106.0 141.0 Q 107.0 141.0, 107.6 140.5 Q 108.2 140.0, 108.2 139.1 Q 108.2 138.6, 107.8 138.2 Q 107.5 137.9, 107.1 137.7 Q 106.6 137.5, 105.8 137.2 L 105.2 137.0 Q 104.4 137.4, 104.1 138.0 Q 103.8 138.5, 103.8 139.1 Q 103.8 140.0, 104.4 140.5 Q 105.0 141.0, 106.0 141.0 \" fill=\"#000000\"/>\n<path class=\"note\" d=\"M 231.5 204.0 Q 233.3 204.0, 234.2 205.2 Q 235.2 206.5, 235.2 208.9 Q 235.2 211.7, 234.0 213.1 Q 232.9 214.5, 230.7 214.5 Q 230.1 214.5, 229.5 214.3 Q 229.0 214.2, 228.4 213.9 L 229.0 212.9 Q 229.8 213.3, 230.7 213.3 Q 232.1 213.3, 232.9 212.4 Q 233.6 211.5, 233.7 209.5 Q 233.2 210.0, 232.5 210.3 Q 231.9 210.5, 231.1 210.5 Q 230.2 210.5, 229.5 210.1 Q 228.8 209.7, 228.4 209.0 Q 228.0 208.3, 228.0 207.4 Q 228.0 206.4, 228.5 205.6 Q 228.9 204.9, 229.7 204.4 Q 230.5 204.0, 231.5 204.0 M 229.5 207.4 Q 229.5 208.3, 230.0 208.8 Q 230.5 209.3, 231.4 209.3 Q 232.0 209.3, 232.6 209.1 Q 233.3 208.8, 233.7 208.4 Q 233.6 206.7, 233.1 205.9 Q 232.6 205.2, 231.5 205.2 Q 230.9 205.2, 230.5 205.5 Q 230.0 205.8, 229.8 206.3 Q 229.5 206.8, 229.5 207.4 \" fill=\"#000000\"/>\n<path class=\"note\" d=\"M 281.0 213.2 L 283.3 213.2 L 283.3 205.5 L 280.8 206.3 L 280.5 205.4 L 283.6 204.0 L 284.6 204.2 L 284.6 213.2 L 286.6 213.2 L 286.6 214.3 L 281.0 214.3 L 281.0 213.2 \" fill=\"#000000\"/>\n<path class=\"note\" d=\"M 291.7 214.4 Q 289.8 214.4, 288.9 213.0 Q 287.9 211.7, 287.9 209.2 Q 287.9 206.7, 288.9 205.3 Q 289.8 203.9, 291.7 203.9 Q 293.6 203.9, 294.5 205.3 Q 295.5 206.7, 295.5 209.2 Q 295.5 211.7, 294.5 213.0 Q 293.6 214.4, 291.7 214.4 M 291.7 213.3 Q 292.8 213.3, 293.4 212.2 Q 294.0 211.2, 294.0 209.2 Q 294.0 207.2, 293.4 206.1 Q 292.8 205.1, 291.7 205.1 Q 290.6 205.1, 290.0 206.1 Q 289.4 207.2, 289.4 209.2 Q 289.4 211.2, 290.0 212.2 Q 290.6 213.3, 291.7 213.3 \" fill=\"#000000\"/>\n<path class=\"note\" d=\"M 268.1 236.8 L 270.3 236.8 L 270.3 229.2 L 267.8 229.9 L 267.5 229.1 L 270.6 227.7 L 271.7 227.8 L 271.7 236.8 L 273.7 236.8 L 273.7 238.0 L 268.1 238.0 L 268.1 236.8 \" fill=\"#000000\"/>\n<path class=\"note\" d=\"M 275.5 236.8 L 277.7 236.8 L 277.7 229.2 L 275.2 229.9 L 274.9 229.1 L 278.1 227.7 L 279.1 227.8 L 279.1 236.8 L 281.1 236.8 L 281.1 238.0 L 275.5 238.0 L 275.5 236.8 \" fill=\"#000000\"/>\n<path class=\"note\" d=\"M 141.2 115.7 L 143.4 115.7 L 143.4 108.0 L 141.0 108.8 L 140.6 107.9 L 143.8 106.5 L 144.8 106.7 L 144.8 115.7 L 146.8 115.7 L 146.8 116.8 L 141.2 116.8 L 141.2 115.7 \" fill=\"#000000\"/>\n<path class=\"note\" d=\"M 148.1 108.5 Q 148.5 107.5, 149.4 107.0 Q 150.3 106.4, 151.5 106.4 Q 153.1 106.4, 154.0 107.3 Q 154.8 108.1, 154.8 109.6 Q 154.8 111.1, 153.7 112.6 Q 152.6 114.0, 150.3 115.7 L 155.0 115.7 L 155.0 116.8 L 148.1 116.8 L 148.1 115.8 Q 150.0 114.5, 151.1 113.5 Q 152.3 112.5, 152.8 111.5 Q 153.4 110.6, 153.4 109.7 Q 153.4 108.7, 152.9 108.1 Q 152.4 107.6, 151.5 107.6 Q 150.7 107.6, 150.2 107.9 Q 149.6 108.3, 149.2 109.0 L 148.1 108.5 \" fill=\"#000000\"/>\n</svg>",
      "text/plain": [
       "<IPython.core.display.SVG object>"
      ]
     },
     "execution_count": 4,
     "metadata": {},
     "output_type": "execute_result"
    }
   ],
   "source": [
    "cpd = 'C00082'\n",
    "smile = cpd_dict[cpd]['smile']\n",
    "mol = Chem.MolFromSmiles(smile)\n",
    "d2d = rdMolDraw2D.MolDraw2DSVG(350,300)\n",
    "d2d.drawOptions().addAtomIndices=True\n",
    "d2d.drawOptions().addBondIndices=True\n",
    "d2d.DrawMolecule(mol)\n",
    "d2d.FinishDrawing()\n",
    "SVG(d2d.GetDrawingText())"
   ]
  },
  {
   "cell_type": "code",
   "execution_count": 5,
   "metadata": {},
   "outputs": [
    {
     "data": {
      "image/png": "[encoded data removed]",
      "text/plain": [
       "<PIL.Image.Image image mode=RGB size=393x329>"
      ]
     },
     "metadata": {},
     "output_type": "display_data"
    }
   ],
   "source": [
    "#hight atoms\n",
    "img1 = clourMol(mol,highlightAtoms_p=[0, 1], highlightBonds_p=[0])\n",
    "img1 =StripAlphaFromImage(img1)\n",
    "img1 = TrimImgByWhite(img1)\n",
    "display(img1)"
   ]
  },
  {
   "cell_type": "code",
   "execution_count": 21,
   "metadata": {},
   "outputs": [
    {
     "data": {
      "image/svg+xml": "<svg xmlns=\"http://www.w3.org/2000/svg\" xmlns:rdkit=\"http://www.rdkit.org/xml\" xmlns:xlink=\"http://www.w3.org/1999/xlink\" version=\"1.1\" baseProfile=\"full\" xml:space=\"preserve\" width=\"350px\" height=\"300px\" viewBox=\"0 0 350 300\">\n<!-- END OF HEADER -->\n<rect style=\"opacity:1.0;fill:#FFFFFF;stroke:none\" width=\"350.0\" height=\"300.0\" x=\"0.0\" y=\"0.0\"> </rect>\n<path class=\"bond-0 atom-0 atom-1\" d=\"M 84.2,96.4 L 84.2,113.7\" style=\"fill:none;fill-rule:evenodd;stroke:#FF0000;stroke-width:2.0px;stroke-linecap:butt;stroke-linejoin:miter;stroke-opacity:1\"/>\n<path class=\"bond-0 atom-0 atom-1\" d=\"M 84.2,113.7 L 84.1,131.0\" style=\"fill:none;fill-rule:evenodd;stroke:#000000;stroke-width:2.0px;stroke-linecap:butt;stroke-linejoin:miter;stroke-opacity:1\"/>\n<path class=\"bond-0 atom-0 atom-1\" d=\"M 77.7,96.4 L 77.6,113.7\" style=\"fill:none;fill-rule:evenodd;stroke:#FF0000;stroke-width:2.0px;stroke-linecap:butt;stroke-linejoin:miter;stroke-opacity:1\"/>\n<path class=\"bond-0 atom-0 atom-1\" d=\"M 77.6,113.7 L 77.5,131.0\" style=\"fill:none;fill-rule:evenodd;stroke:#000000;stroke-width:2.0px;stroke-linecap:butt;stroke-linejoin:miter;stroke-opacity:1\"/>\n<path class=\"bond-1 atom-1 atom-2\" d=\"M 80.8,129.1 L 66.8,137.1\" style=\"fill:none;fill-rule:evenodd;stroke:#000000;stroke-width:2.0px;stroke-linecap:butt;stroke-linejoin:miter;stroke-opacity:1\"/>\n<path class=\"bond-1 atom-1 atom-2\" d=\"M 66.8,137.1 L 52.8,145.1\" style=\"fill:none;fill-rule:evenodd;stroke:#FF0000;stroke-width:2.0px;stroke-linecap:butt;stroke-linejoin:miter;stroke-opacity:1\"/>\n<path class=\"bond-2 atom-1 atom-3\" d=\"M 80.8,129.1 L 118.7,151.1\" style=\"fill:none;fill-rule:evenodd;stroke:#000000;stroke-width:2.0px;stroke-linecap:butt;stroke-linejoin:miter;stroke-opacity:1\"/>\n<path class=\"bond-3 atom-3 atom-4\" d=\"M 115.4,149.2 L 115.3,166.6\" style=\"fill:none;fill-rule:evenodd;stroke:#000000;stroke-width:2.0px;stroke-linecap:butt;stroke-linejoin:miter;stroke-opacity:1\"/>\n<path class=\"bond-3 atom-3 atom-4\" d=\"M 115.3,166.6 L 115.3,184.1\" style=\"fill:none;fill-rule:evenodd;stroke:#FF0000;stroke-width:2.0px;stroke-linecap:butt;stroke-linejoin:miter;stroke-opacity:1\"/>\n<path class=\"bond-3 atom-3 atom-4\" d=\"M 122.0,149.2 L 121.9,166.7\" style=\"fill:none;fill-rule:evenodd;stroke:#000000;stroke-width:2.0px;stroke-linecap:butt;stroke-linejoin:miter;stroke-opacity:1\"/>\n<path class=\"bond-3 atom-3 atom-4\" d=\"M 121.9,166.7 L 121.8,184.1\" style=\"fill:none;fill-rule:evenodd;stroke:#FF0000;stroke-width:2.0px;stroke-linecap:butt;stroke-linejoin:miter;stroke-opacity:1\"/>\n<path class=\"bond-4 atom-3 atom-5\" d=\"M 118.7,151.1 L 156.7,129.4\" style=\"fill:none;fill-rule:evenodd;stroke:#000000;stroke-width:2.0px;stroke-linecap:butt;stroke-linejoin:miter;stroke-opacity:1\"/>\n<path class=\"bond-5 atom-5 atom-6\" d=\"M 156.7,129.4 L 194.5,151.4\" style=\"fill:none;fill-rule:evenodd;stroke:#000000;stroke-width:2.0px;stroke-linecap:butt;stroke-linejoin:miter;stroke-opacity:1\"/>\n<path class=\"bond-6 atom-6 atom-7\" d=\"M 194.5,151.4 L 232.6,129.6\" style=\"fill:none;fill-rule:evenodd;stroke:#000000;stroke-width:2.0px;stroke-linecap:butt;stroke-linejoin:miter;stroke-opacity:1\"/>\n<path class=\"bond-6 atom-6 atom-7\" d=\"M 201.1,155.2 L 232.5,137.2\" style=\"fill:none;fill-rule:evenodd;stroke:#000000;stroke-width:2.0px;stroke-linecap:butt;stroke-linejoin:miter;stroke-opacity:1\"/>\n<path class=\"bond-7 atom-7 atom-8\" d=\"M 232.6,129.6 L 270.4,151.7\" style=\"fill:none;fill-rule:evenodd;stroke:#000000;stroke-width:2.0px;stroke-linecap:butt;stroke-linejoin:miter;stroke-opacity:1\"/>\n<path class=\"bond-8 atom-8 atom-9\" d=\"M 270.4,151.7 L 270.2,195.5\" style=\"fill:none;fill-rule:evenodd;stroke:#000000;stroke-width:2.0px;stroke-linecap:butt;stroke-linejoin:miter;stroke-opacity:1\"/>\n<path class=\"bond-8 atom-8 atom-9\" d=\"M 263.8,155.4 L 263.7,191.6\" style=\"fill:none;fill-rule:evenodd;stroke:#000000;stroke-width:2.0px;stroke-linecap:butt;stroke-linejoin:miter;stroke-opacity:1\"/>\n<path class=\"bond-9 atom-9 atom-10\" d=\"M 270.2,195.5 L 284.2,203.6\" style=\"fill:none;fill-rule:evenodd;stroke:#000000;stroke-width:2.0px;stroke-linecap:butt;stroke-linejoin:miter;stroke-opacity:1\"/>\n<path class=\"bond-9 atom-9 atom-10\" d=\"M 284.2,203.6 L 298.1,211.7\" style=\"fill:none;fill-rule:evenodd;stroke:#FF0000;stroke-width:2.0px;stroke-linecap:butt;stroke-linejoin:miter;stroke-opacity:1\"/>\n<path class=\"bond-10 atom-9 atom-11\" d=\"M 270.2,195.5 L 232.2,217.2\" style=\"fill:none;fill-rule:evenodd;stroke:#000000;stroke-width:2.0px;stroke-linecap:butt;stroke-linejoin:miter;stroke-opacity:1\"/>\n<path class=\"bond-11 atom-11 atom-12\" d=\"M 232.2,217.2 L 194.4,195.2\" style=\"fill:none;fill-rule:evenodd;stroke:#000000;stroke-width:2.0px;stroke-linecap:butt;stroke-linejoin:miter;stroke-opacity:1\"/>\n<path class=\"bond-11 atom-11 atom-12\" d=\"M 232.3,209.6 L 201.0,191.4\" style=\"fill:none;fill-rule:evenodd;stroke:#000000;stroke-width:2.0px;stroke-linecap:butt;stroke-linejoin:miter;stroke-opacity:1\"/>\n<path class=\"bond-12 atom-12 atom-6\" d=\"M 194.4,195.2 L 194.5,151.4\" style=\"fill:none;fill-rule:evenodd;stroke:#000000;stroke-width:2.0px;stroke-linecap:butt;stroke-linejoin:miter;stroke-opacity:1\"/>\n<path d=\"M 80.1,129.5 L 80.8,129.1 L 82.7,130.2\" style=\"fill:none;stroke:#000000;stroke-width:2.0px;stroke-linecap:butt;stroke-linejoin:miter;stroke-opacity:1;\"/>\n<path d=\"M 116.8,150.0 L 118.7,151.1 L 120.6,150.0\" style=\"fill:none;stroke:#000000;stroke-width:2.0px;stroke-linecap:butt;stroke-linejoin:miter;stroke-opacity:1;\"/>\n<path d=\"M 154.8,130.4 L 156.7,129.4 L 158.6,130.5\" style=\"fill:none;stroke:#000000;stroke-width:2.0px;stroke-linecap:butt;stroke-linejoin:miter;stroke-opacity:1;\"/>\n<path d=\"M 230.7,130.7 L 232.6,129.6 L 234.4,130.7\" style=\"fill:none;stroke:#000000;stroke-width:2.0px;stroke-linecap:butt;stroke-linejoin:miter;stroke-opacity:1;\"/>\n<path d=\"M 268.5,150.6 L 270.4,151.7 L 270.4,153.9\" style=\"fill:none;stroke:#000000;stroke-width:2.0px;stroke-linecap:butt;stroke-linejoin:miter;stroke-opacity:1;\"/>\n<path d=\"M 234.1,216.1 L 232.2,217.2 L 230.3,216.1\" style=\"fill:none;stroke:#000000;stroke-width:2.0px;stroke-linecap:butt;stroke-linejoin:miter;stroke-opacity:1;\"/>\n<path d=\"M 196.3,196.3 L 194.4,195.2 L 194.4,193.0\" style=\"fill:none;stroke:#000000;stroke-width:2.0px;stroke-linecap:butt;stroke-linejoin:miter;stroke-opacity:1;\"/>\n<path class=\"atom-0\" d=\"M 72.4 85.3 Q 72.4 80.9, 74.7 78.4 Q 76.9 75.9, 81.0 75.9 Q 85.1 75.9, 87.3 78.4 Q 89.5 80.9, 89.5 85.3 Q 89.5 89.9, 87.3 92.4 Q 85.1 95.0, 81.0 95.0 Q 76.9 95.0, 74.7 92.4 Q 72.4 89.9, 72.4 85.3 M 81.0 92.9 Q 83.8 92.9, 85.4 91.0 Q 86.9 89.1, 86.9 85.3 Q 86.9 81.7, 85.4 79.8 Q 83.8 78.0, 81.0 78.0 Q 78.2 78.0, 76.6 79.8 Q 75.1 81.7, 75.1 85.3 Q 75.1 89.1, 76.6 91.0 Q 78.2 92.9, 81.0 92.9 \" fill=\"#FF0000\"/>\n<path class=\"atom-2\" d=\"M 15.9 141.6 L 18.4 141.6 L 18.4 149.6 L 27.9 149.6 L 27.9 141.6 L 30.5 141.6 L 30.5 160.3 L 27.9 160.3 L 27.9 151.7 L 18.4 151.7 L 18.4 160.3 L 15.9 160.3 L 15.9 141.6 \" fill=\"#FF0000\"/>\n<path class=\"atom-2\" d=\"M 34.3 150.9 Q 34.3 146.4, 36.5 143.9 Q 38.7 141.4, 42.8 141.4 Q 47.0 141.4, 49.2 143.9 Q 51.4 146.4, 51.4 150.9 Q 51.4 155.4, 49.1 158.0 Q 46.9 160.5, 42.8 160.5 Q 38.7 160.5, 36.5 158.0 Q 34.3 155.4, 34.3 150.9 M 42.8 158.4 Q 45.7 158.4, 47.2 156.5 Q 48.7 154.6, 48.7 150.9 Q 48.7 147.2, 47.2 145.4 Q 45.7 143.5, 42.8 143.5 Q 40.0 143.5, 38.4 145.4 Q 36.9 147.2, 36.9 150.9 Q 36.9 154.7, 38.4 156.5 Q 40.0 158.4, 42.8 158.4 \" fill=\"#FF0000\"/>\n<path class=\"atom-4\" d=\"M 110.0 195.0 Q 110.0 190.5, 112.2 188.0 Q 114.4 185.5, 118.5 185.5 Q 122.7 185.5, 124.9 188.0 Q 127.1 190.5, 127.1 195.0 Q 127.1 199.5, 124.8 202.1 Q 122.6 204.6, 118.5 204.6 Q 114.4 204.6, 112.2 202.1 Q 110.0 199.5, 110.0 195.0 M 118.5 202.5 Q 121.4 202.5, 122.9 200.6 Q 124.4 198.7, 124.4 195.0 Q 124.4 191.3, 122.9 189.5 Q 121.4 187.6, 118.5 187.6 Q 115.7 187.6, 114.1 189.5 Q 112.6 191.3, 112.6 195.0 Q 112.6 198.7, 114.1 200.6 Q 115.7 202.5, 118.5 202.5 \" fill=\"#FF0000\"/>\n<path class=\"atom-10\" d=\"M 299.6 217.6 Q 299.6 213.1, 301.8 210.6 Q 304.0 208.1, 308.1 208.1 Q 312.2 208.1, 314.4 210.6 Q 316.6 213.1, 316.6 217.6 Q 316.6 222.1, 314.4 224.6 Q 312.2 227.2, 308.1 227.2 Q 304.0 227.2, 301.8 224.6 Q 299.6 222.1, 299.6 217.6 M 308.1 225.1 Q 310.9 225.1, 312.5 223.2 Q 314.0 221.3, 314.0 217.6 Q 314.0 213.9, 312.5 212.1 Q 310.9 210.2, 308.1 210.2 Q 305.3 210.2, 303.7 212.0 Q 302.2 213.9, 302.2 217.6 Q 302.2 221.3, 303.7 223.2 Q 305.3 225.1, 308.1 225.1 \" fill=\"#FF0000\"/>\n<path class=\"atom-10\" d=\"M 319.5 208.3 L 322.1 208.3 L 322.1 216.2 L 331.6 216.2 L 331.6 208.3 L 334.1 208.3 L 334.1 226.9 L 331.6 226.9 L 331.6 218.3 L 322.1 218.3 L 322.1 226.9 L 319.5 226.9 L 319.5 208.3 \" fill=\"#FF0000\"/>\n<path class=\"note\" d=\"M 81.1 68.2 Q 79.4 68.2, 78.5 66.9 Q 77.7 65.7, 77.7 63.4 Q 77.7 61.2, 78.5 59.9 Q 79.3 58.7, 81.1 58.7 Q 82.8 58.7, 83.6 59.9 Q 84.5 61.2, 84.5 63.4 Q 84.5 65.7, 83.6 66.9 Q 82.8 68.2, 81.1 68.2 M 81.1 67.1 Q 82.1 67.1, 82.6 66.2 Q 83.2 65.3, 83.2 63.4 Q 83.2 61.6, 82.6 60.7 Q 82.1 59.7, 81.1 59.7 Q 80.1 59.7, 79.5 60.7 Q 79.0 61.6, 79.0 63.4 Q 79.0 65.3, 79.5 66.2 Q 80.1 67.1, 81.1 67.1 \" fill=\"#000000\"/>\n<path class=\"note\" d=\"M 69.1 127.2 L 71.1 127.2 L 71.1 120.3 L 68.9 121.0 L 68.6 120.2 L 71.4 118.9 L 72.3 119.1 L 72.3 127.2 L 74.2 127.2 L 74.2 128.3 L 69.1 128.3 L 69.1 127.2 \" fill=\"#000000\"/>\n<path class=\"note\" d=\"M 28.8 129.0 Q 29.2 128.1, 30.0 127.6 Q 30.8 127.1, 31.9 127.1 Q 33.3 127.1, 34.1 127.9 Q 34.9 128.7, 34.9 130.0 Q 34.9 131.4, 33.9 132.7 Q 32.9 134.0, 30.8 135.5 L 35.1 135.5 L 35.1 136.5 L 28.8 136.5 L 28.8 135.7 Q 30.5 134.4, 31.6 133.5 Q 32.6 132.6, 33.1 131.8 Q 33.6 130.9, 33.6 130.1 Q 33.6 129.2, 33.2 128.7 Q 32.7 128.2, 31.9 128.2 Q 31.2 128.2, 30.7 128.5 Q 30.2 128.8, 29.8 129.5 L 28.8 129.0 \" fill=\"#000000\"/>\n<path class=\"note\" d=\"M 110.5 156.4 Q 111.4 156.6, 111.9 157.2 Q 112.3 157.8, 112.3 158.7 Q 112.3 159.5, 111.9 160.1 Q 111.5 160.7, 110.8 161.1 Q 110.1 161.4, 109.1 161.4 Q 108.1 161.4, 107.4 161.1 Q 106.6 160.7, 106.1 160.0 L 106.8 159.2 Q 107.4 159.9, 107.9 160.1 Q 108.4 160.3, 109.1 160.3 Q 110.0 160.3, 110.5 159.9 Q 111.0 159.4, 111.0 158.7 Q 111.0 157.8, 110.5 157.3 Q 109.9 156.9, 108.8 156.9 L 108.1 156.9 L 108.1 156.0 L 108.7 156.0 Q 109.7 155.9, 110.3 155.5 Q 110.8 155.1, 110.8 154.2 Q 110.8 153.6, 110.4 153.3 Q 109.9 152.9, 109.1 152.9 Q 108.4 152.9, 107.9 153.2 Q 107.4 153.5, 107.0 154.2 L 106.1 153.7 Q 106.5 152.9, 107.2 152.4 Q 108.0 151.9, 109.1 151.9 Q 110.5 151.9, 111.3 152.5 Q 112.1 153.1, 112.1 154.2 Q 112.1 155.0, 111.7 155.5 Q 111.3 156.1, 110.5 156.4 \" fill=\"#000000\"/>\n<path class=\"note\" d=\"M 120.9 218.3 L 122.0 218.3 L 122.0 219.3 L 120.9 219.3 L 120.9 221.5 L 119.7 221.5 L 119.7 219.3 L 114.9 219.3 L 114.9 218.5 L 118.9 212.2 L 120.9 212.2 L 120.9 218.3 M 116.4 218.3 L 119.7 218.3 L 119.7 213.0 L 116.4 218.3 \" fill=\"#000000\"/>\n<path class=\"note\" d=\"M 157.0 117.2 Q 157.8 117.2, 158.4 117.6 Q 159.1 117.9, 159.5 118.6 Q 159.9 119.2, 159.9 120.1 Q 159.9 121.1, 159.4 121.8 Q 158.9 122.5, 158.2 122.8 Q 157.4 123.2, 156.6 123.2 Q 155.7 123.2, 154.9 122.9 Q 154.1 122.5, 153.6 121.9 L 154.4 121.1 Q 154.8 121.6, 155.4 121.9 Q 156.0 122.1, 156.6 122.1 Q 157.4 122.1, 158.0 121.6 Q 158.6 121.1, 158.6 120.1 Q 158.6 119.2, 158.0 118.7 Q 157.4 118.2, 156.5 118.2 Q 155.7 118.2, 154.8 118.6 L 154.1 118.2 L 154.5 113.8 L 159.3 113.8 L 159.2 114.8 L 155.6 114.8 L 155.3 117.6 Q 156.1 117.2, 157.0 117.2 \" fill=\"#000000\"/>\n<path class=\"note\" d=\"M 195.0 139.3 Q 195.8 139.3, 196.5 139.7 Q 197.1 140.0, 197.5 140.7 Q 197.8 141.3, 197.8 142.1 Q 197.8 143.1, 197.4 143.8 Q 197.0 144.5, 196.3 144.9 Q 195.6 145.2, 194.7 145.2 Q 193.0 145.2, 192.2 144.1 Q 191.4 143.0, 191.4 140.8 Q 191.4 138.3, 192.4 137.0 Q 193.4 135.7, 195.4 135.7 Q 196.0 135.7, 196.5 135.9 Q 197.0 136.0, 197.4 136.3 L 196.9 137.2 Q 196.2 136.8, 195.4 136.8 Q 194.1 136.8, 193.4 137.6 Q 192.8 138.5, 192.7 140.2 Q 193.2 139.8, 193.7 139.6 Q 194.4 139.3, 195.0 139.3 M 194.7 144.2 Q 195.2 144.2, 195.6 143.9 Q 196.0 143.6, 196.3 143.2 Q 196.5 142.7, 196.5 142.2 Q 196.5 141.3, 196.0 140.9 Q 195.6 140.4, 194.8 140.4 Q 194.2 140.4, 193.6 140.6 Q 193.1 140.8, 192.7 141.2 Q 192.7 142.8, 193.2 143.5 Q 193.7 144.2, 194.7 144.2 \" fill=\"#000000\"/>\n<path class=\"note\" d=\"M 234.4 115.1 L 229.5 115.1 L 229.5 114.0 L 235.7 114.0 L 235.7 115.0 L 231.9 123.3 L 230.7 123.3 L 234.4 115.1 \" fill=\"#000000\"/>\n<path class=\"note\" d=\"M 281.4 146.0 Q 282.2 146.4, 282.7 146.9 Q 283.2 147.5, 283.2 148.4 Q 283.2 149.2, 282.8 149.8 Q 282.4 150.4, 281.6 150.7 Q 280.9 151.1, 280.0 151.1 Q 278.4 151.1, 277.5 150.4 Q 276.6 149.6, 276.6 148.4 Q 276.6 147.6, 277.0 147.1 Q 277.4 146.5, 278.2 146.0 Q 277.6 145.7, 277.3 145.2 Q 277.0 144.7, 277.0 143.9 Q 277.0 142.8, 277.8 142.2 Q 278.6 141.5, 279.9 141.5 Q 281.3 141.5, 282.0 142.2 Q 282.8 142.8, 282.8 143.9 Q 282.8 144.6, 282.5 145.1 Q 282.1 145.6, 281.4 146.0 M 279.9 142.5 Q 279.1 142.5, 278.7 142.9 Q 278.3 143.2, 278.3 143.9 Q 278.3 144.4, 278.6 144.7 Q 278.9 145.0, 279.3 145.2 Q 279.7 145.4, 280.5 145.7 Q 281.0 145.3, 281.3 144.9 Q 281.5 144.4, 281.5 143.9 Q 281.5 143.2, 281.1 142.9 Q 280.7 142.5, 279.9 142.5 M 280.0 150.1 Q 280.8 150.1, 281.4 149.6 Q 281.9 149.1, 281.9 148.4 Q 281.9 147.9, 281.6 147.6 Q 281.3 147.2, 280.9 147.1 Q 280.5 146.9, 279.8 146.6 L 279.2 146.4 Q 278.5 146.8, 278.2 147.3 Q 277.9 147.8, 277.9 148.4 Q 277.9 149.1, 278.5 149.6 Q 279.0 150.1, 280.0 150.1 \" fill=\"#000000\"/>\n<path class=\"note\" d=\"M 279.6 185.3 Q 281.3 185.3, 282.1 186.4 Q 283.0 187.6, 283.0 189.8 Q 283.0 192.3, 281.9 193.6 Q 280.9 194.8, 278.9 194.8 Q 278.3 194.8, 277.8 194.7 Q 277.4 194.6, 276.9 194.3 L 277.4 193.4 Q 278.1 193.8, 278.9 193.8 Q 280.2 193.8, 280.9 192.9 Q 281.6 192.1, 281.6 190.3 Q 281.2 190.8, 280.6 191.0 Q 280.0 191.2, 279.3 191.2 Q 278.5 191.2, 277.9 190.9 Q 277.2 190.5, 276.9 189.9 Q 276.5 189.2, 276.5 188.4 Q 276.5 187.5, 276.9 186.8 Q 277.3 186.1, 278.0 185.7 Q 278.7 185.3, 279.6 185.3 M 277.8 188.4 Q 277.8 189.2, 278.3 189.7 Q 278.8 190.2, 279.6 190.2 Q 280.1 190.2, 280.7 190.0 Q 281.3 189.7, 281.6 189.3 Q 281.6 187.8, 281.1 187.1 Q 280.6 186.4, 279.6 186.4 Q 279.1 186.4, 278.7 186.7 Q 278.3 186.9, 278.1 187.4 Q 277.8 187.8, 277.8 188.4 \" fill=\"#000000\"/>\n<path class=\"note\" d=\"M 312.7 240.2 L 314.7 240.2 L 314.7 233.2 L 312.5 233.9 L 312.2 233.1 L 315.0 231.9 L 316.0 232.0 L 316.0 240.2 L 317.8 240.2 L 317.8 241.2 L 312.7 241.2 L 312.7 240.2 \" fill=\"#000000\"/>\n<path class=\"note\" d=\"M 322.4 241.3 Q 320.7 241.3, 319.8 240.1 Q 319.0 238.8, 319.0 236.5 Q 319.0 234.3, 319.8 233.0 Q 320.6 231.8, 322.4 231.8 Q 324.1 231.8, 324.9 233.0 Q 325.8 234.3, 325.8 236.5 Q 325.8 238.8, 324.9 240.1 Q 324.1 241.3, 322.4 241.3 M 322.4 240.3 Q 323.4 240.3, 323.9 239.3 Q 324.5 238.4, 324.5 236.5 Q 324.5 234.7, 323.9 233.8 Q 323.4 232.9, 322.4 232.9 Q 321.4 232.9, 320.8 233.8 Q 320.3 234.7, 320.3 236.5 Q 320.3 238.4, 320.8 239.3 Q 321.4 240.3, 322.4 240.3 \" fill=\"#000000\"/>\n<path class=\"note\" d=\"M 226.5 231.8 L 228.6 231.8 L 228.6 224.9 L 226.3 225.5 L 226.0 224.8 L 228.9 223.5 L 229.8 223.7 L 229.8 231.8 L 231.6 231.8 L 231.6 232.9 L 226.5 232.9 L 226.5 231.8 \" fill=\"#000000\"/>\n<path class=\"note\" d=\"M 233.3 231.8 L 235.3 231.8 L 235.3 224.9 L 233.1 225.5 L 232.8 224.8 L 235.6 223.5 L 236.5 223.7 L 236.5 231.8 L 238.4 231.8 L 238.4 232.9 L 233.3 232.9 L 233.3 231.8 \" fill=\"#000000\"/>\n<path class=\"note\" d=\"M 178.9 204.3 L 180.9 204.3 L 180.9 197.3 L 178.7 198.0 L 178.4 197.3 L 181.2 196.0 L 182.2 196.1 L 182.2 204.3 L 184.0 204.3 L 184.0 205.3 L 178.9 205.3 L 178.9 204.3 \" fill=\"#000000\"/>\n<path class=\"note\" d=\"M 185.2 197.8 Q 185.5 196.9, 186.3 196.4 Q 187.1 195.9, 188.3 195.9 Q 189.7 195.9, 190.4 196.7 Q 191.2 197.4, 191.2 198.8 Q 191.2 200.2, 190.2 201.5 Q 189.2 202.8, 187.1 204.3 L 191.4 204.3 L 191.4 205.3 L 185.1 205.3 L 185.1 204.5 Q 186.9 203.2, 187.9 202.3 Q 188.9 201.4, 189.4 200.5 Q 189.9 199.7, 189.9 198.9 Q 189.9 198.0, 189.5 197.5 Q 189.0 197.0, 188.3 197.0 Q 187.5 197.0, 187.0 197.3 Q 186.5 197.6, 186.2 198.3 L 185.2 197.8 \" fill=\"#000000\"/>\n<path class=\"note\" d=\"M 94.1 112.0 Q 92.3 112.0, 91.5 110.8 Q 90.6 109.5, 90.6 107.3 Q 90.6 105.0, 91.5 103.8 Q 92.3 102.5, 94.1 102.5 Q 95.8 102.5, 96.6 103.8 Q 97.5 105.0, 97.5 107.3 Q 97.5 109.5, 96.6 110.8 Q 95.8 112.0, 94.1 112.0 M 94.1 111.0 Q 95.1 111.0, 95.6 110.1 Q 96.1 109.1, 96.1 107.3 Q 96.1 105.4, 95.6 104.5 Q 95.1 103.6, 94.1 103.6 Q 93.1 103.6, 92.5 104.5 Q 92.0 105.4, 92.0 107.3 Q 92.0 109.1, 92.5 110.1 Q 93.1 111.0, 94.1 111.0 \" fill=\"#000000\"/>\n<path class=\"note\" d=\"M 66.1 155.0 L 68.1 155.0 L 68.1 148.0 L 65.9 148.7 L 65.6 148.0 L 68.4 146.7 L 69.3 146.9 L 69.3 155.0 L 71.2 155.0 L 71.2 156.0 L 66.1 156.0 L 66.1 155.0 \" fill=\"#000000\"/>\n<path class=\"note\" d=\"M 103.3 125.9 Q 103.6 125.0, 104.4 124.5 Q 105.2 124.0, 106.4 124.0 Q 107.8 124.0, 108.6 124.8 Q 109.3 125.6, 109.3 126.9 Q 109.3 128.3, 108.3 129.6 Q 107.3 130.9, 105.2 132.4 L 109.5 132.4 L 109.5 133.5 L 103.2 133.5 L 103.2 132.6 Q 105.0 131.3, 106.0 130.4 Q 107.0 129.5, 107.5 128.7 Q 108.0 127.8, 108.0 127.0 Q 108.0 126.1, 107.6 125.6 Q 107.1 125.1, 106.4 125.1 Q 105.6 125.1, 105.1 125.4 Q 104.6 125.7, 104.3 126.4 L 103.3 125.9 \" fill=\"#000000\"/>\n<path class=\"note\" d=\"M 133.1 172.9 Q 134.0 173.1, 134.4 173.7 Q 134.9 174.3, 134.9 175.2 Q 134.9 176.0, 134.5 176.6 Q 134.1 177.2, 133.4 177.6 Q 132.6 177.9, 131.7 177.9 Q 130.7 177.9, 129.9 177.6 Q 129.2 177.2, 128.6 176.5 L 129.4 175.7 Q 129.9 176.4, 130.4 176.6 Q 130.9 176.8, 131.7 176.8 Q 132.5 176.8, 133.0 176.4 Q 133.6 175.9, 133.6 175.2 Q 133.6 174.3, 133.0 173.8 Q 132.5 173.4, 131.4 173.4 L 130.7 173.4 L 130.7 172.5 L 131.3 172.5 Q 132.3 172.4, 132.8 172.0 Q 133.4 171.6, 133.4 170.7 Q 133.4 170.1, 132.9 169.8 Q 132.5 169.4, 131.7 169.4 Q 130.9 169.4, 130.4 169.7 Q 130.0 170.0, 129.6 170.7 L 128.7 170.2 Q 129.0 169.4, 129.8 168.9 Q 130.6 168.4, 131.7 168.4 Q 133.1 168.4, 133.9 169.0 Q 134.7 169.6, 134.7 170.7 Q 134.7 171.5, 134.3 172.0 Q 133.9 172.6, 133.1 172.9 \" fill=\"#000000\"/>\n<path class=\"note\" d=\"M 133.6 130.3 L 134.7 130.3 L 134.7 131.3 L 133.6 131.3 L 133.6 133.5 L 132.4 133.5 L 132.4 131.3 L 127.6 131.3 L 127.6 130.5 L 131.7 124.2 L 133.6 124.2 L 133.6 130.3 M 129.1 130.3 L 132.4 130.3 L 132.4 125.0 L 129.1 130.3 \" fill=\"#000000\"/>\n<path class=\"note\" d=\"M 182.5 127.8 Q 183.3 127.8, 183.9 128.2 Q 184.6 128.5, 185.0 129.2 Q 185.4 129.8, 185.4 130.7 Q 185.4 131.7, 184.9 132.4 Q 184.4 133.1, 183.7 133.4 Q 182.9 133.8, 182.0 133.8 Q 181.2 133.8, 180.4 133.5 Q 179.6 133.1, 179.1 132.5 L 179.9 131.7 Q 180.3 132.2, 180.9 132.5 Q 181.5 132.7, 182.1 132.7 Q 182.9 132.7, 183.5 132.2 Q 184.1 131.7, 184.1 130.8 Q 184.1 129.8, 183.5 129.3 Q 182.9 128.8, 182.0 128.8 Q 181.2 128.8, 180.3 129.2 L 179.6 128.8 L 180.0 124.4 L 184.8 124.4 L 184.7 125.4 L 181.1 125.4 L 180.8 128.2 Q 181.6 127.8, 182.5 127.8 \" fill=\"#000000\"/>\n<path class=\"note\" d=\"M 207.4 128.0 Q 208.2 128.0, 208.9 128.4 Q 209.5 128.7, 209.9 129.4 Q 210.2 130.0, 210.2 130.8 Q 210.2 131.7, 209.8 132.4 Q 209.4 133.1, 208.7 133.5 Q 208.0 133.9, 207.1 133.9 Q 205.5 133.9, 204.6 132.8 Q 203.8 131.7, 203.8 129.4 Q 203.8 127.0, 204.8 125.7 Q 205.9 124.4, 207.8 124.4 Q 208.4 124.4, 208.9 124.5 Q 209.4 124.7, 209.9 124.9 L 209.4 125.8 Q 208.7 125.5, 207.9 125.5 Q 206.5 125.5, 205.9 126.3 Q 205.2 127.1, 205.1 128.9 Q 205.6 128.5, 206.2 128.2 Q 206.8 128.0, 207.4 128.0 M 207.1 132.8 Q 207.6 132.8, 208.0 132.6 Q 208.5 132.3, 208.7 131.9 Q 208.9 131.4, 208.9 130.8 Q 208.9 130.0, 208.5 129.5 Q 208.0 129.1, 207.2 129.1 Q 206.6 129.1, 206.1 129.3 Q 205.5 129.5, 205.1 129.9 Q 205.2 131.4, 205.7 132.1 Q 206.1 132.8, 207.1 132.8 \" fill=\"#000000\"/>\n<path class=\"note\" d=\"M 259.9 125.7 L 255.0 125.7 L 255.0 124.6 L 261.2 124.6 L 261.2 125.6 L 257.4 133.9 L 256.2 133.9 L 259.9 125.7 \" fill=\"#000000\"/>\n<path class=\"note\" d=\"M 284.9 173.4 Q 285.8 173.8, 286.3 174.3 Q 286.7 174.8, 286.7 175.8 Q 286.7 176.6, 286.3 177.2 Q 285.9 177.8, 285.2 178.1 Q 284.5 178.4, 283.5 178.4 Q 282.0 178.4, 281.1 177.7 Q 280.2 177.0, 280.2 175.8 Q 280.2 175.0, 280.6 174.4 Q 281.0 173.9, 281.8 173.4 Q 281.2 173.1, 280.8 172.6 Q 280.5 172.1, 280.5 171.3 Q 280.5 170.2, 281.3 169.6 Q 282.1 168.9, 283.5 168.9 Q 284.8 168.9, 285.6 169.6 Q 286.4 170.2, 286.4 171.3 Q 286.4 172.0, 286.0 172.5 Q 285.7 173.0, 284.9 173.4 M 283.5 169.9 Q 282.7 169.9, 282.3 170.3 Q 281.8 170.6, 281.8 171.3 Q 281.8 171.8, 282.1 172.1 Q 282.4 172.4, 282.8 172.6 Q 283.2 172.8, 284.0 173.1 Q 284.6 172.7, 284.8 172.2 Q 285.1 171.8, 285.1 171.3 Q 285.1 170.6, 284.7 170.3 Q 284.2 169.9, 283.5 169.9 M 283.5 177.5 Q 284.4 177.5, 284.9 177.0 Q 285.4 176.5, 285.4 175.8 Q 285.4 175.3, 285.2 174.9 Q 284.9 174.6, 284.5 174.4 Q 284.1 174.3, 283.3 174.0 L 282.7 173.8 Q 282.1 174.2, 281.8 174.7 Q 281.5 175.1, 281.5 175.8 Q 281.5 176.5, 282.0 177.0 Q 282.6 177.5, 283.5 177.5 \" fill=\"#000000\"/>\n<path class=\"note\" d=\"M 295.7 190.4 Q 297.3 190.4, 298.2 191.6 Q 299.0 192.7, 299.0 194.9 Q 299.0 197.4, 298.0 198.7 Q 296.9 199.9, 295.0 199.9 Q 294.4 199.9, 293.9 199.8 Q 293.4 199.7, 292.9 199.4 L 293.4 198.5 Q 294.1 198.9, 294.9 198.9 Q 296.3 198.9, 296.9 198.0 Q 297.6 197.2, 297.7 195.4 Q 297.2 195.9, 296.6 196.1 Q 296.0 196.3, 295.4 196.3 Q 294.6 196.3, 293.9 196.0 Q 293.3 195.6, 292.9 195.0 Q 292.6 194.3, 292.6 193.5 Q 292.6 192.6, 293.0 191.9 Q 293.4 191.2, 294.1 190.8 Q 294.8 190.4, 295.7 190.4 M 293.9 193.5 Q 293.9 194.3, 294.3 194.8 Q 294.8 195.3, 295.6 195.3 Q 296.2 195.3, 296.7 195.1 Q 297.3 194.8, 297.7 194.4 Q 297.6 192.9, 297.1 192.2 Q 296.7 191.5, 295.7 191.5 Q 295.2 191.5, 294.8 191.8 Q 294.3 192.0, 294.1 192.5 Q 293.9 192.9, 293.9 193.5 \" fill=\"#000000\"/>\n<path class=\"note\" d=\"M 251.5 221.4 L 253.5 221.4 L 253.5 214.4 L 251.3 215.1 L 251.0 214.4 L 253.8 213.1 L 254.8 213.3 L 254.8 221.4 L 256.6 221.4 L 256.6 222.5 L 251.5 222.5 L 251.5 221.4 \" fill=\"#000000\"/>\n<path class=\"note\" d=\"M 261.2 222.6 Q 259.5 222.6, 258.6 221.3 Q 257.8 220.0, 257.8 217.8 Q 257.8 215.5, 258.6 214.3 Q 259.4 213.0, 261.2 213.0 Q 262.9 213.0, 263.7 214.3 Q 264.6 215.5, 264.6 217.8 Q 264.6 220.0, 263.7 221.3 Q 262.9 222.6, 261.2 222.6 M 261.2 221.5 Q 262.2 221.5, 262.7 220.6 Q 263.3 219.6, 263.3 217.8 Q 263.3 216.0, 262.7 215.0 Q 262.2 214.1, 261.2 214.1 Q 260.2 214.1, 259.6 215.0 Q 259.1 216.0, 259.1 217.8 Q 259.1 219.6, 259.6 220.6 Q 260.2 221.5, 261.2 221.5 \" fill=\"#000000\"/>\n<path class=\"note\" d=\"M 201.0 221.2 L 203.1 221.2 L 203.1 214.2 L 200.8 214.9 L 200.5 214.2 L 203.4 212.9 L 204.3 213.0 L 204.3 221.2 L 206.1 221.2 L 206.1 222.2 L 201.0 222.2 L 201.0 221.2 \" fill=\"#000000\"/>\n<path class=\"note\" d=\"M 207.8 221.2 L 209.8 221.2 L 209.8 214.2 L 207.6 214.9 L 207.3 214.2 L 210.1 212.9 L 211.0 213.0 L 211.0 221.2 L 212.9 221.2 L 212.9 222.2 L 207.8 222.2 L 207.8 221.2 \" fill=\"#000000\"/>\n<path class=\"note\" d=\"M 175.3 176.9 L 177.4 176.9 L 177.4 169.9 L 175.1 170.6 L 174.8 169.9 L 177.7 168.6 L 178.6 168.7 L 178.6 176.9 L 180.4 176.9 L 180.4 177.9 L 175.3 177.9 L 175.3 176.9 \" fill=\"#000000\"/>\n<path class=\"note\" d=\"M 181.6 170.4 Q 181.9 169.5, 182.8 169.0 Q 183.6 168.5, 184.7 168.5 Q 186.1 168.5, 186.9 169.3 Q 187.7 170.1, 187.7 171.4 Q 187.7 172.8, 186.7 174.1 Q 185.6 175.4, 183.5 176.9 L 187.8 176.9 L 187.8 177.9 L 181.6 177.9 L 181.6 177.1 Q 183.3 175.8, 184.3 174.9 Q 185.4 174.0, 185.9 173.2 Q 186.4 172.3, 186.4 171.5 Q 186.4 170.6, 185.9 170.1 Q 185.5 169.6, 184.7 169.6 Q 183.9 169.6, 183.4 169.9 Q 182.9 170.2, 182.6 170.9 L 181.6 170.4 \" fill=\"#000000\"/>\n</svg>",
      "text/plain": [
       "<IPython.core.display.SVG object>"
      ]
     },
     "execution_count": 21,
     "metadata": {},
     "output_type": "execute_result"
    }
   ],
   "source": [
    "cpd = 'C01179'\n",
    "smile = cpd_dict[cpd]['smile']\n",
    "mol = Chem.MolFromSmiles(smile)\n",
    "d2d = rdMolDraw2D.MolDraw2DSVG(350,300)\n",
    "d2d.drawOptions().addAtomIndices=True\n",
    "d2d.drawOptions().addBondIndices=True\n",
    "d2d.DrawMolecule(mol)\n",
    "d2d.FinishDrawing()\n",
    "SVG(d2d.GetDrawingText())"
   ]
  },
  {
   "cell_type": "code",
   "execution_count": 6,
   "metadata": {},
   "outputs": [],
   "source": [
    "img1.save('cache/images/'+cpd+'.png')\n"
   ]
  },
  {
   "cell_type": "code",
   "execution_count": null,
   "metadata": {},
   "outputs": [],
   "source": []
  },
  {
   "cell_type": "code",
   "execution_count": null,
   "metadata": {},
   "outputs": [],
   "source": []
  },
  {
   "cell_type": "code",
   "execution_count": null,
   "metadata": {},
   "outputs": [],
   "source": []
  },
  {
   "cell_type": "code",
   "execution_count": 23,
   "metadata": {},
   "outputs": [
    {
     "data": {
      "image/png": "[encoded data removed]",
      "text/plain": [
       "<PIL.Image.Image image mode=RGB size=393x203>"
      ]
     },
     "metadata": {},
     "output_type": "display_data"
    }
   ],
   "source": [
    "#hight atoms\n",
    "img1 = clourMol(mol,highlightAtoms_p=[3, 4], highlightBonds_p=[3])\n",
    "img1 =StripAlphaFromImage(img1)\n",
    "img1 = TrimImgByWhite(img1)\n",
    "display(img1)"
   ]
  },
  {
   "cell_type": "code",
   "execution_count": null,
   "metadata": {},
   "outputs": [],
   "source": []
  },
  {
   "cell_type": "code",
   "execution_count": null,
   "metadata": {},
   "outputs": [],
   "source": [
    "from rembg import remove\n",
    "\n",
    "#待处理的图片路径\n",
    "input_path = 'cache/images/C00082.png'\n",
    "#处理后存储的图片路径\n",
    "output_path = 'cache/images/_C00082.png'\n",
    "\n",
    "with open(input_path, 'rb') as i:\n",
    "    with open(output_path, 'wb') as o:\n",
    "        input = i.read()\n",
    "        output = remove(input)\n",
    "        o.write(output)\n"
   ]
  },
  {
   "cell_type": "code",
   "execution_count": null,
   "metadata": {},
   "outputs": [],
   "source": []
  },
  {
   "cell_type": "code",
   "execution_count": null,
   "metadata": {},
   "outputs": [],
   "source": []
  },
  {
   "cell_type": "code",
   "execution_count": null,
   "metadata": {},
   "outputs": [],
   "source": []
  },
  {
   "cell_type": "code",
   "execution_count": null,
   "metadata": {},
   "outputs": [],
   "source": []
  },
  {
   "cell_type": "code",
   "execution_count": null,
   "metadata": {},
   "outputs": [],
   "source": []
  },
  {
   "cell_type": "code",
   "execution_count": null,
   "metadata": {},
   "outputs": [],
   "source": []
  },
  {
   "cell_type": "code",
   "execution_count": null,
   "metadata": {},
   "outputs": [],
   "source": []
  },
  {
   "cell_type": "code",
   "execution_count": null,
   "metadata": {},
   "outputs": [],
   "source": []
  },
  {
   "cell_type": "code",
   "execution_count": null,
   "metadata": {},
   "outputs": [],
   "source": []
  },
  {
   "cell_type": "code",
   "execution_count": null,
   "metadata": {},
   "outputs": [],
   "source": []
  },
  {
   "cell_type": "code",
   "execution_count": null,
   "metadata": {},
   "outputs": [],
   "source": []
  },
  {
   "cell_type": "code",
   "execution_count": null,
   "metadata": {},
   "outputs": [],
   "source": []
  },
  {
   "cell_type": "code",
   "execution_count": null,
   "metadata": {},
   "outputs": [],
   "source": []
  },
  {
   "cell_type": "code",
   "execution_count": null,
   "metadata": {},
   "outputs": [],
   "source": []
  },
  {
   "cell_type": "code",
   "execution_count": null,
   "metadata": {},
   "outputs": [],
   "source": []
  },
  {
   "cell_type": "code",
   "execution_count": null,
   "metadata": {},
   "outputs": [],
   "source": []
  },
  {
   "cell_type": "code",
   "execution_count": null,
   "metadata": {},
   "outputs": [],
   "source": []
  },
  {
   "cell_type": "code",
   "execution_count": null,
   "metadata": {},
   "outputs": [],
   "source": []
  },
  {
   "cell_type": "code",
   "execution_count": null,
   "metadata": {},
   "outputs": [],
   "source": []
  },
  {
   "cell_type": "code",
   "execution_count": null,
   "metadata": {},
   "outputs": [],
   "source": []
  },
  {
   "cell_type": "code",
   "execution_count": null,
   "metadata": {},
   "outputs": [],
   "source": []
  },
  {
   "cell_type": "code",
   "execution_count": null,
   "metadata": {},
   "outputs": [],
   "source": []
  },
  {
   "cell_type": "code",
   "execution_count": null,
   "metadata": {},
   "outputs": [],
   "source": []
  },
  {
   "cell_type": "code",
   "execution_count": null,
   "metadata": {},
   "outputs": [],
   "source": []
  },
  {
   "cell_type": "code",
   "execution_count": null,
   "metadata": {},
   "outputs": [],
   "source": []
  },
  {
   "cell_type": "code",
   "execution_count": null,
   "metadata": {},
   "outputs": [],
   "source": []
  },
  {
   "cell_type": "code",
   "execution_count": null,
   "metadata": {},
   "outputs": [],
   "source": []
  },
  {
   "cell_type": "code",
   "execution_count": null,
   "metadata": {},
   "outputs": [],
   "source": []
  },
  {
   "cell_type": "code",
   "execution_count": null,
   "metadata": {},
   "outputs": [],
   "source": []
  },
  {
   "cell_type": "code",
   "execution_count": null,
   "metadata": {},
   "outputs": [],
   "source": []
  },
  {
   "cell_type": "code",
   "execution_count": null,
   "metadata": {},
   "outputs": [],
   "source": []
  },
  {
   "cell_type": "code",
   "execution_count": null,
   "metadata": {},
   "outputs": [],
   "source": []
  },
  {
   "cell_type": "code",
   "execution_count": null,
   "metadata": {},
   "outputs": [],
   "source": []
  },
  {
   "cell_type": "code",
   "execution_count": null,
   "metadata": {},
   "outputs": [],
   "source": []
  },
  {
   "cell_type": "code",
   "execution_count": null,
   "metadata": {},
   "outputs": [],
   "source": []
  },
  {
   "cell_type": "code",
   "execution_count": 9,
   "metadata": {},
   "outputs": [
    {
     "ename": "NameError",
     "evalue": "name 'pd' is not defined",
     "output_type": "error",
     "traceback": [
      "\u001b[0;31m---------------------------------------------------------------------------\u001b[0m",
      "\u001b[0;31mNameError\u001b[0m                                 Traceback (most recent call last)",
      "Cell \u001b[0;32mIn [9], line 1\u001b[0m\n\u001b[0;32m----> 1\u001b[0m t \u001b[39m=\u001b[39m pd\u001b[39m.\u001b[39mDataFrame(np\u001b[39m.\u001b[39mrandom\u001b[39m.\u001b[39mrand(\u001b[39m5\u001b[39m,\u001b[39m3\u001b[39m)\u001b[39m*\u001b[39m\u001b[39m4\u001b[39m\u001b[39m+\u001b[39m\u001b[39m3\u001b[39m)\n\u001b[1;32m      2\u001b[0m t\n",
      "\u001b[0;31mNameError\u001b[0m: name 'pd' is not defined"
     ]
    }
   ],
   "source": [
    "t = pd.DataFrame(np.random.rand(5,3)*4+3)\n",
    "t "
   ]
  },
  {
   "cell_type": "code",
   "execution_count": null,
   "metadata": {},
   "outputs": [
    {
     "data": {
      "text/html": [
       "<div>\n",
       "<style scoped>\n",
       "    .dataframe tbody tr th:only-of-type {\n",
       "        vertical-align: middle;\n",
       "    }\n",
       "\n",
       "    .dataframe tbody tr th {\n",
       "        vertical-align: top;\n",
       "    }\n",
       "\n",
       "    .dataframe thead th {\n",
       "        text-align: right;\n",
       "    }\n",
       "</style>\n",
       "<table border=\"1\" class=\"dataframe\">\n",
       "  <thead>\n",
       "    <tr style=\"text-align: right;\">\n",
       "      <th></th>\n",
       "      <th>0</th>\n",
       "      <th>1</th>\n",
       "      <th>2</th>\n",
       "    </tr>\n",
       "  </thead>\n",
       "  <tbody>\n",
       "    <tr>\n",
       "      <th>0</th>\n",
       "      <td>0.000000</td>\n",
       "      <td>0.855239</td>\n",
       "      <td>1.000000</td>\n",
       "    </tr>\n",
       "    <tr>\n",
       "      <th>1</th>\n",
       "      <td>0.384579</td>\n",
       "      <td>0.139104</td>\n",
       "      <td>0.000000</td>\n",
       "    </tr>\n",
       "    <tr>\n",
       "      <th>2</th>\n",
       "      <td>1.000000</td>\n",
       "      <td>1.000000</td>\n",
       "      <td>0.679536</td>\n",
       "    </tr>\n",
       "    <tr>\n",
       "      <th>3</th>\n",
       "      <td>0.913717</td>\n",
       "      <td>0.000000</td>\n",
       "      <td>0.754838</td>\n",
       "    </tr>\n",
       "    <tr>\n",
       "      <th>4</th>\n",
       "      <td>0.589026</td>\n",
       "      <td>0.246904</td>\n",
       "      <td>0.939060</td>\n",
       "    </tr>\n",
       "  </tbody>\n",
       "</table>\n",
       "</div>"
      ],
      "text/plain": [
       "          0         1         2\n",
       "0  0.000000  0.855239  1.000000\n",
       "1  0.384579  0.139104  0.000000\n",
       "2  1.000000  1.000000  0.679536\n",
       "3  0.913717  0.000000  0.754838\n",
       "4  0.589026  0.246904  0.939060"
      ]
     },
     "execution_count": 20,
     "metadata": {},
     "output_type": "execute_result"
    }
   ],
   "source": [
    "t.apply(lambda x:(x-np.min(x))/(np.max(x)-np.min(x)))"
   ]
  },
  {
   "cell_type": "code",
   "execution_count": null,
   "metadata": {},
   "outputs": [],
   "source": []
  },
  {
   "cell_type": "code",
   "execution_count": null,
   "metadata": {},
   "outputs": [],
   "source": []
  },
  {
   "cell_type": "code",
   "execution_count": null,
   "metadata": {},
   "outputs": [],
   "source": []
  },
  {
   "cell_type": "code",
   "execution_count": null,
   "metadata": {},
   "outputs": [],
   "source": []
  },
  {
   "cell_type": "code",
   "execution_count": null,
   "metadata": {},
   "outputs": [],
   "source": []
  },
  {
   "cell_type": "code",
   "execution_count": null,
   "metadata": {},
   "outputs": [],
   "source": []
  },
  {
   "cell_type": "code",
   "execution_count": null,
   "metadata": {},
   "outputs": [],
   "source": []
  },
  {
   "cell_type": "code",
   "execution_count": null,
   "metadata": {},
   "outputs": [],
   "source": []
  },
  {
   "cell_type": "code",
   "execution_count": null,
   "metadata": {},
   "outputs": [],
   "source": []
  },
  {
   "cell_type": "code",
   "execution_count": null,
   "metadata": {},
   "outputs": [],
   "source": []
  },
  {
   "cell_type": "code",
   "execution_count": null,
   "metadata": {},
   "outputs": [],
   "source": []
  },
  {
   "cell_type": "code",
   "execution_count": null,
   "metadata": {},
   "outputs": [],
   "source": []
  },
  {
   "cell_type": "code",
   "execution_count": null,
   "metadata": {},
   "outputs": [],
   "source": []
  }
 ],
 "metadata": {
  "kernelspec": {
   "display_name": "Python 3.8.15 ('bda')",
   "language": "python",
   "name": "python3"
  },
  "language_info": {
   "codemirror_mode": {
    "name": "ipython",
    "version": 3
   },
   "file_extension": ".py",
   "mimetype": "text/x-python",
   "name": "python",
   "nbconvert_exporter": "python",
   "pygments_lexer": "ipython3",
   "version": "3.8.15"
  },
  "orig_nbformat": 4,
  "vscode": {
   "interpreter": {
    "hash": "d1f671cd8cc995974f13d25efc00e1bacd9da06df2b4cb7efa4da32e5a0deea6"
   }
  }
 },
 "nbformat": 4,
 "nbformat_minor": 2
}
